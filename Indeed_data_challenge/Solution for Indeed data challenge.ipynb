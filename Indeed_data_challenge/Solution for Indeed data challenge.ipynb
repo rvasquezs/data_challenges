{
 "cells": [
  {
   "cell_type": "code",
   "execution_count": 53,
   "metadata": {},
   "outputs": [],
   "source": [
    "import graphlab as gl\n",
    "import numpy as np\n",
    "import graphlab.aggregate as agg\n",
    "import pandas as pd\n",
    "from matplotlib import pyplot as plt\n",
    "import pandas as pd\n",
    "from sklearn.model_selection import train_test_split\n",
    "from sklearn.preprocessing import Imputer\n",
    "from xgboost import XGBRegressor\n",
    "from sklearn.metrics import mean_absolute_error\n",
    "from sklearn.metrics import mean_squared_error\n",
    "\n",
    "%matplotlib inline\n",
    "gl.canvas.set_target('ipynb')"
   ]
  },
  {
   "cell_type": "markdown",
   "metadata": {},
   "source": [
    "### Data Exploration  \n",
    "Let's start by loading train dataset into SFrames from graphlab and do the join"
   ]
  },
  {
   "cell_type": "code",
   "execution_count": 4,
   "metadata": {},
   "outputs": [],
   "source": [
    "featuressf = gl.SFrame.read_csv(\"train_features_2013-03-07.csv\", verbose=False)\n",
    "salariessf = gl.SFrame.read_csv(\"train_salaries_2013-03-07.csv\", verbose=False)"
   ]
  },
  {
   "cell_type": "code",
   "execution_count": 6,
   "metadata": {},
   "outputs": [],
   "source": [
    "data = featuressf.join(salariessf,on=\"jobId\",how=\"inner\")"
   ]
  },
  {
   "cell_type": "markdown",
   "metadata": {},
   "source": [
    "### Let's look at the summary of all variable"
   ]
  },
  {
   "cell_type": "code",
   "execution_count": 8,
   "metadata": {},
   "outputs": [
    {
     "data": {
      "application/javascript": [
       "$(\"head\").append($(\"<link/>\").attr({\n",
       "  rel:  \"stylesheet\",\n",
       "  type: \"text/css\",\n",
       "  href: \"//cdnjs.cloudflare.com/ajax/libs/font-awesome/4.1.0/css/font-awesome.min.css\"\n",
       "}));\n",
       "$(\"head\").append($(\"<link/>\").attr({\n",
       "  rel:  \"stylesheet\",\n",
       "  type: \"text/css\",\n",
       "  href: \"https://static.turi.com/products/graphlab-create/2.1/canvas/css/canvas.css\"\n",
       "}));\n",
       "\n",
       "            (function(){\n",
       "\n",
       "                var e = null;\n",
       "                if (typeof element == 'undefined') {\n",
       "                    var scripts = document.getElementsByTagName('script');\n",
       "                    var thisScriptTag = scripts[scripts.length-1];\n",
       "                    var parentDiv = thisScriptTag.parentNode;\n",
       "                    e = document.createElement('div');\n",
       "                    parentDiv.appendChild(e);\n",
       "                } else {\n",
       "                    e = element[0];\n",
       "                }\n",
       "\n",
       "                if (typeof requirejs !== 'undefined') {\n",
       "                    // disable load timeout; ipython_app.js is large and can take a while to load.\n",
       "                    requirejs.config({waitSeconds: 0});\n",
       "                }\n",
       "\n",
       "                require(['https://static.turi.com/products/graphlab-create/2.1/canvas/js/ipython_app.js'], function(IPythonApp){\n",
       "                    var app = new IPythonApp();\n",
       "                    app.attachView('sframe','Summary', {\"ipython\": true, \"sketch\": {\"salary\": {\"std\": 38.717917022160094, \"complete\": true, \"min\": 0.0, \"max\": 301.0, \"quantile\": [0.0, 39.0, 45.0, 49.0, 53.0, 56.0, 59.0, 61.0, 63.0, 65.0, 67.0, 69.0, 71.0, 73.0, 74.0, 76.0, 77.0, 79.0, 80.0, 81.0, 83.0, 84.0, 85.0, 86.0, 87.0, 89.0, 90.0, 91.0, 92.0, 93.0, 94.0, 95.0, 96.0, 97.0, 98.0, 99.0, 100.0, 101.0, 102.0, 103.0, 104.0, 105.0, 106.0, 107.0, 108.0, 109.0, 110.0, 111.0, 112.0, 113.0, 114.0, 115.0, 116.0, 117.0, 118.0, 119.0, 120.0, 121.0, 122.0, 123.0, 124.0, 125.0, 126.0, 127.0, 128.0, 129.0, 130.0, 131.0, 133.0, 134.0, 135.0, 136.0, 137.0, 139.0, 140.0, 141.0, 142.0, 144.0, 145.0, 147.0, 148.0, 150.0, 151.0, 153.0, 155.0, 157.0, 159.0, 161.0, 163.0, 165.0, 168.0, 170.0, 173.0, 176.0, 180.0, 184.0, 189.0, 195.0, 203.0, 215.0, 301.0], \"median\": 114.0, \"numeric\": true, \"num_unique\": 280, \"num_undefined\": 0, \"var\": 1499.0770985348745, \"progress\": 1.0, \"size\": 1000000, \"frequent_items\": {\"0\": {\"frequency\": 5, \"value\": 0}, \"17\": {\"frequency\": 1, \"value\": 17}, \"18\": {\"frequency\": 3, \"value\": 18}, \"19\": {\"frequency\": 10, \"value\": 19}, \"20\": {\"frequency\": 43, \"value\": 20}, \"21\": {\"frequency\": 49, \"value\": 21}, \"22\": {\"frequency\": 63, \"value\": 22}, \"23\": {\"frequency\": 107, \"value\": 23}, \"24\": {\"frequency\": 129, \"value\": 24}, \"25\": {\"frequency\": 173, \"value\": 25}, \"26\": {\"frequency\": 232, \"value\": 26}, \"27\": {\"frequency\": 309, \"value\": 27}, \"28\": {\"frequency\": 347, \"value\": 28}, \"29\": {\"frequency\": 463, \"value\": 29}, \"30\": {\"frequency\": 518, \"value\": 30}, \"31\": {\"frequency\": 553, \"value\": 31}, \"32\": {\"frequency\": 614, \"value\": 32}, \"33\": {\"frequency\": 743, \"value\": 33}, \"34\": {\"frequency\": 800, \"value\": 34}, \"35\": {\"frequency\": 927, \"value\": 35}, \"36\": {\"frequency\": 1096, \"value\": 36}, \"37\": {\"frequency\": 1108, \"value\": 37}, \"38\": {\"frequency\": 1197, \"value\": 38}, \"39\": {\"frequency\": 1356, \"value\": 39}, \"40\": {\"frequency\": 1449, \"value\": 40}, \"41\": {\"frequency\": 1622, \"value\": 41}, \"42\": {\"frequency\": 1660, \"value\": 42}, \"43\": {\"frequency\": 1816, \"value\": 43}, \"44\": {\"frequency\": 1904, \"value\": 44}, \"45\": {\"frequency\": 2018, \"value\": 45}, \"46\": {\"frequency\": 2248, \"value\": 46}, \"47\": {\"frequency\": 2300, \"value\": 47}, \"48\": {\"frequency\": 2410, \"value\": 48}, \"49\": {\"frequency\": 2516, \"value\": 49}, \"50\": {\"frequency\": 2655, \"value\": 50}, \"51\": {\"frequency\": 2831, \"value\": 51}, \"52\": {\"frequency\": 3000, \"value\": 52}, \"53\": {\"frequency\": 3087, \"value\": 53}, \"54\": {\"frequency\": 3278, \"value\": 54}, \"55\": {\"frequency\": 3332, \"value\": 55}, \"56\": {\"frequency\": 3491, \"value\": 56}, \"57\": {\"frequency\": 3622, \"value\": 57}, \"58\": {\"frequency\": 3803, \"value\": 58}, \"59\": {\"frequency\": 4026, \"value\": 59}, \"60\": {\"frequency\": 4087, \"value\": 60}, \"61\": {\"frequency\": 4384, \"value\": 61}, \"62\": {\"frequency\": 4357, \"value\": 62}, \"63\": {\"frequency\": 4592, \"value\": 63}, \"64\": {\"frequency\": 4706, \"value\": 64}, \"65\": {\"frequency\": 4984, \"value\": 65}, \"66\": {\"frequency\": 5142, \"value\": 66}, \"67\": {\"frequency\": 5258, \"value\": 67}, \"68\": {\"frequency\": 5344, \"value\": 68}, \"69\": {\"frequency\": 5606, \"value\": 69}, \"70\": {\"frequency\": 5797, \"value\": 70}, \"71\": {\"frequency\": 5851, \"value\": 71}, \"72\": {\"frequency\": 6096, \"value\": 72}, \"73\": {\"frequency\": 6173, \"value\": 73}, \"74\": {\"frequency\": 6464, \"value\": 74}, \"75\": {\"frequency\": 6551, \"value\": 75}, \"76\": {\"frequency\": 6730, \"value\": 76}, \"77\": {\"frequency\": 6933, \"value\": 77}, \"78\": {\"frequency\": 7166, \"value\": 78}, \"79\": {\"frequency\": 7221, \"value\": 79}, \"80\": {\"frequency\": 7588, \"value\": 80}, \"81\": {\"frequency\": 7353, \"value\": 81}, \"82\": {\"frequency\": 7879, \"value\": 82}, \"83\": {\"frequency\": 7930, \"value\": 83}, \"84\": {\"frequency\": 8026, \"value\": 84}, \"85\": {\"frequency\": 8346, \"value\": 85}, \"86\": {\"frequency\": 8434, \"value\": 86}, \"87\": {\"frequency\": 8472, \"value\": 87}, \"88\": {\"frequency\": 8724, \"value\": 88}, \"89\": {\"frequency\": 8775, \"value\": 89}, \"90\": {\"frequency\": 9066, \"value\": 90}, \"91\": {\"frequency\": 9189, \"value\": 91}, \"92\": {\"frequency\": 9228, \"value\": 92}, \"93\": {\"frequency\": 9320, \"value\": 93}, \"94\": {\"frequency\": 9236, \"value\": 94}, \"95\": {\"frequency\": 9567, \"value\": 95}, \"96\": {\"frequency\": 9565, \"value\": 96}, \"97\": {\"frequency\": 9773, \"value\": 97}, \"98\": {\"frequency\": 9898, \"value\": 98}, \"99\": {\"frequency\": 9946, \"value\": 99}, \"100\": {\"frequency\": 9937, \"value\": 100}, \"101\": {\"frequency\": 10151, \"value\": 101}, \"102\": {\"frequency\": 10158, \"value\": 102}, \"103\": {\"frequency\": 10285, \"value\": 103}, \"104\": {\"frequency\": 10297, \"value\": 104}, \"105\": {\"frequency\": 10223, \"value\": 105}, \"106\": {\"frequency\": 10204, \"value\": 106}, \"107\": {\"frequency\": 10371, \"value\": 107}, \"108\": {\"frequency\": 10467, \"value\": 108}, \"109\": {\"frequency\": 10243, \"value\": 109}, \"110\": {\"frequency\": 10270, \"value\": 110}, \"111\": {\"frequency\": 10179, \"value\": 111}, \"112\": {\"frequency\": 10361, \"value\": 112}, \"113\": {\"frequency\": 10182, \"value\": 113}, \"114\": {\"frequency\": 10407, \"value\": 114}, \"115\": {\"frequency\": 10227, \"value\": 115}, \"116\": {\"frequency\": 10169, \"value\": 116}, \"117\": {\"frequency\": 10041, \"value\": 117}, \"118\": {\"frequency\": 9968, \"value\": 118}, \"119\": {\"frequency\": 10080, \"value\": 119}, \"120\": {\"frequency\": 9835, \"value\": 120}, \"121\": {\"frequency\": 9800, \"value\": 121}, \"122\": {\"frequency\": 9748, \"value\": 122}, \"123\": {\"frequency\": 9723, \"value\": 123}, \"124\": {\"frequency\": 9685, \"value\": 124}, \"125\": {\"frequency\": 9594, \"value\": 125}, \"126\": {\"frequency\": 9416, \"value\": 126}, \"127\": {\"frequency\": 9325, \"value\": 127}, \"128\": {\"frequency\": 9353, \"value\": 128}, \"129\": {\"frequency\": 9185, \"value\": 129}, \"130\": {\"frequency\": 8909, \"value\": 130}, \"131\": {\"frequency\": 8679, \"value\": 131}, \"132\": {\"frequency\": 8752, \"value\": 132}, \"133\": {\"frequency\": 8674, \"value\": 133}, \"134\": {\"frequency\": 8532, \"value\": 134}, \"135\": {\"frequency\": 8350, \"value\": 135}, \"136\": {\"frequency\": 8182, \"value\": 136}, \"137\": {\"frequency\": 8127, \"value\": 137}, \"138\": {\"frequency\": 7941, \"value\": 138}, \"139\": {\"frequency\": 7774, \"value\": 139}, \"140\": {\"frequency\": 7816, \"value\": 140}, \"141\": {\"frequency\": 7536, \"value\": 141}, \"142\": {\"frequency\": 7565, \"value\": 142}, \"143\": {\"frequency\": 7358, \"value\": 143}, \"144\": {\"frequency\": 7057, \"value\": 144}, \"145\": {\"frequency\": 6987, \"value\": 145}, \"146\": {\"frequency\": 6767, \"value\": 146}, \"147\": {\"frequency\": 6786, \"value\": 147}, \"148\": {\"frequency\": 6556, \"value\": 148}, \"149\": {\"frequency\": 6369, \"value\": 149}, \"150\": {\"frequency\": 6086, \"value\": 150}, \"151\": {\"frequency\": 6125, \"value\": 151}, \"152\": {\"frequency\": 5974, \"value\": 152}, \"153\": {\"frequency\": 5794, \"value\": 153}, \"154\": {\"frequency\": 5742, \"value\": 154}, \"155\": {\"frequency\": 5611, \"value\": 155}, \"156\": {\"frequency\": 5542, \"value\": 156}, \"157\": {\"frequency\": 5259, \"value\": 157}, \"158\": {\"frequency\": 5000, \"value\": 158}, \"159\": {\"frequency\": 5065, \"value\": 159}, \"160\": {\"frequency\": 4888, \"value\": 160}, \"161\": {\"frequency\": 4738, \"value\": 161}, \"162\": {\"frequency\": 4609, \"value\": 162}, \"163\": {\"frequency\": 4569, \"value\": 163}, \"164\": {\"frequency\": 4265, \"value\": 164}, \"165\": {\"frequency\": 4213, \"value\": 165}, \"166\": {\"frequency\": 4087, \"value\": 166}, \"167\": {\"frequency\": 3998, \"value\": 167}, \"168\": {\"frequency\": 3919, \"value\": 168}, \"169\": {\"frequency\": 3730, \"value\": 169}, \"170\": {\"frequency\": 3623, \"value\": 170}, \"171\": {\"frequency\": 3490, \"value\": 171}, \"172\": {\"frequency\": 3422, \"value\": 172}, \"173\": {\"frequency\": 3433, \"value\": 173}, \"174\": {\"frequency\": 3225, \"value\": 174}, \"175\": {\"frequency\": 3115, \"value\": 175}, \"176\": {\"frequency\": 3038, \"value\": 176}, \"177\": {\"frequency\": 2955, \"value\": 177}, \"178\": {\"frequency\": 2779, \"value\": 178}, \"179\": {\"frequency\": 2754, \"value\": 179}, \"180\": {\"frequency\": 2641, \"value\": 180}, \"181\": {\"frequency\": 2526, \"value\": 181}, \"182\": {\"frequency\": 2437, \"value\": 182}, \"183\": {\"frequency\": 2351, \"value\": 183}, \"184\": {\"frequency\": 2181, \"value\": 184}, \"185\": {\"frequency\": 2155, \"value\": 185}, \"186\": {\"frequency\": 2065, \"value\": 186}, \"187\": {\"frequency\": 2024, \"value\": 187}, \"188\": {\"frequency\": 1937, \"value\": 188}, \"189\": {\"frequency\": 1824, \"value\": 189}, \"190\": {\"frequency\": 1774, \"value\": 190}, \"191\": {\"frequency\": 1795, \"value\": 191}, \"192\": {\"frequency\": 1712, \"value\": 192}, \"193\": {\"frequency\": 1604, \"value\": 193}, \"194\": {\"frequency\": 1556, \"value\": 194}, \"195\": {\"frequency\": 1452, \"value\": 195}, \"196\": {\"frequency\": 1347, \"value\": 196}, \"197\": {\"frequency\": 1399, \"value\": 197}, \"198\": {\"frequency\": 1313, \"value\": 198}, \"199\": {\"frequency\": 1257, \"value\": 199}, \"200\": {\"frequency\": 1193, \"value\": 200}, \"201\": {\"frequency\": 1106, \"value\": 201}, \"202\": {\"frequency\": 1109, \"value\": 202}, \"203\": {\"frequency\": 1052, \"value\": 203}, \"204\": {\"frequency\": 967, \"value\": 204}, \"205\": {\"frequency\": 959, \"value\": 205}, \"206\": {\"frequency\": 886, \"value\": 206}, \"207\": {\"frequency\": 815, \"value\": 207}, \"208\": {\"frequency\": 841, \"value\": 208}, \"209\": {\"frequency\": 833, \"value\": 209}, \"210\": {\"frequency\": 776, \"value\": 210}, \"211\": {\"frequency\": 721, \"value\": 211}, \"212\": {\"frequency\": 689, \"value\": 212}, \"213\": {\"frequency\": 615, \"value\": 213}, \"214\": {\"frequency\": 599, \"value\": 214}, \"215\": {\"frequency\": 572, \"value\": 215}, \"216\": {\"frequency\": 545, \"value\": 216}, \"217\": {\"frequency\": 481, \"value\": 217}, \"218\": {\"frequency\": 497, \"value\": 218}, \"219\": {\"frequency\": 497, \"value\": 219}, \"220\": {\"frequency\": 460, \"value\": 220}, \"221\": {\"frequency\": 421, \"value\": 221}, \"222\": {\"frequency\": 423, \"value\": 222}, \"223\": {\"frequency\": 364, \"value\": 223}, \"224\": {\"frequency\": 350, \"value\": 224}, \"225\": {\"frequency\": 355, \"value\": 225}, \"226\": {\"frequency\": 348, \"value\": 226}, \"227\": {\"frequency\": 349, \"value\": 227}, \"228\": {\"frequency\": 297, \"value\": 228}, \"229\": {\"frequency\": 254, \"value\": 229}, \"230\": {\"frequency\": 279, \"value\": 230}, \"231\": {\"frequency\": 235, \"value\": 231}, \"232\": {\"frequency\": 230, \"value\": 232}, \"233\": {\"frequency\": 190, \"value\": 233}, \"234\": {\"frequency\": 199, \"value\": 234}, \"235\": {\"frequency\": 198, \"value\": 235}, \"236\": {\"frequency\": 209, \"value\": 236}, \"237\": {\"frequency\": 183, \"value\": 237}, \"238\": {\"frequency\": 152, \"value\": 238}, \"239\": {\"frequency\": 155, \"value\": 239}, \"240\": {\"frequency\": 140, \"value\": 240}, \"241\": {\"frequency\": 126, \"value\": 241}, \"242\": {\"frequency\": 116, \"value\": 242}, \"243\": {\"frequency\": 127, \"value\": 243}, \"244\": {\"frequency\": 104, \"value\": 244}, \"245\": {\"frequency\": 106, \"value\": 245}, \"246\": {\"frequency\": 93, \"value\": 246}, \"247\": {\"frequency\": 90, \"value\": 247}, \"248\": {\"frequency\": 89, \"value\": 248}, \"249\": {\"frequency\": 69, \"value\": 249}, \"250\": {\"frequency\": 75, \"value\": 250}, \"251\": {\"frequency\": 65, \"value\": 251}, \"252\": {\"frequency\": 56, \"value\": 252}, \"253\": {\"frequency\": 62, \"value\": 253}, \"254\": {\"frequency\": 48, \"value\": 254}, \"255\": {\"frequency\": 44, \"value\": 255}, \"256\": {\"frequency\": 46, \"value\": 256}, \"257\": {\"frequency\": 35, \"value\": 257}, \"258\": {\"frequency\": 37, \"value\": 258}, \"259\": {\"frequency\": 29, \"value\": 259}, \"260\": {\"frequency\": 39, \"value\": 260}, \"261\": {\"frequency\": 27, \"value\": 261}, \"262\": {\"frequency\": 30, \"value\": 262}, \"263\": {\"frequency\": 26, \"value\": 263}, \"264\": {\"frequency\": 19, \"value\": 264}, \"265\": {\"frequency\": 19, \"value\": 265}, \"266\": {\"frequency\": 21, \"value\": 266}, \"267\": {\"frequency\": 19, \"value\": 267}, \"268\": {\"frequency\": 19, \"value\": 268}, \"269\": {\"frequency\": 5, \"value\": 269}, \"270\": {\"frequency\": 16, \"value\": 270}, \"271\": {\"frequency\": 16, \"value\": 271}, \"272\": {\"frequency\": 10, \"value\": 272}, \"273\": {\"frequency\": 14, \"value\": 273}, \"274\": {\"frequency\": 10, \"value\": 274}, \"275\": {\"frequency\": 11, \"value\": 275}, \"276\": {\"frequency\": 5, \"value\": 276}, \"277\": {\"frequency\": 4, \"value\": 277}, \"278\": {\"frequency\": 10, \"value\": 278}, \"279\": {\"frequency\": 4, \"value\": 279}, \"280\": {\"frequency\": 4, \"value\": 280}, \"281\": {\"frequency\": 3, \"value\": 281}, \"282\": {\"frequency\": 6, \"value\": 282}, \"283\": {\"frequency\": 5, \"value\": 283}, \"284\": {\"frequency\": 3, \"value\": 284}, \"285\": {\"frequency\": 4, \"value\": 285}, \"286\": {\"frequency\": 3, \"value\": 286}, \"287\": {\"frequency\": 2, \"value\": 287}, \"288\": {\"frequency\": 2, \"value\": 288}, \"289\": {\"frequency\": 3, \"value\": 289}, \"290\": {\"frequency\": 1, \"value\": 290}, \"292\": {\"frequency\": 2, \"value\": 292}, \"293\": {\"frequency\": 2, \"value\": 293}, \"294\": {\"frequency\": 2, \"value\": 294}, \"298\": {\"frequency\": 1, \"value\": 298}, \"301\": {\"frequency\": 2, \"value\": 301}}, \"mean\": 116.06181800000043}, \"major\": {\"complete\": true, \"numeric\": false, \"num_unique\": 9, \"num_undefined\": 0, \"progress\": 1.0, \"frequent_items\": {\"NONE\": {\"frequency\": 532355, \"value\": \"NONE\"}, \"LITERATURE\": {\"frequency\": 58684, \"value\": \"LITERATURE\"}, \"BUSINESS\": {\"frequency\": 58518, \"value\": \"BUSINESS\"}, \"BIOLOGY\": {\"frequency\": 58379, \"value\": \"BIOLOGY\"}, \"ENGINEERING\": {\"frequency\": 58596, \"value\": \"ENGINEERING\"}, \"COMPSCI\": {\"frequency\": 58382, \"value\": \"COMPSCI\"}, \"CHEMISTRY\": {\"frequency\": 58875, \"value\": \"CHEMISTRY\"}, \"PHYSICS\": {\"frequency\": 58410, \"value\": \"PHYSICS\"}, \"MATH\": {\"frequency\": 57801, \"value\": \"MATH\"}}, \"size\": 1000000}, \"degree\": {\"complete\": true, \"numeric\": false, \"num_unique\": 5, \"num_undefined\": 0, \"progress\": 1.0, \"frequent_items\": {\"BACHELORS\": {\"frequency\": 175495, \"value\": \"BACHELORS\"}, \"MASTERS\": {\"frequency\": 175311, \"value\": \"MASTERS\"}, \"HIGH_SCHOOL\": {\"frequency\": 236976, \"value\": \"HIGH_SCHOOL\"}, \"DOCTORAL\": {\"frequency\": 175364, \"value\": \"DOCTORAL\"}, \"NONE\": {\"frequency\": 236854, \"value\": \"NONE\"}}, \"size\": 1000000}, \"companyId\": {\"complete\": true, \"numeric\": false, \"num_unique\": 63, \"num_undefined\": 0, \"progress\": 1.0, \"frequent_items\": {\"COMP50\": {\"frequency\": 15791, \"value\": \"COMP50\"}, \"COMP51\": {\"frequency\": 16005, \"value\": \"COMP51\"}, \"COMP52\": {\"frequency\": 15737, \"value\": \"COMP52\"}, \"COMP53\": {\"frequency\": 15776, \"value\": \"COMP53\"}, \"COMP54\": {\"frequency\": 15977, \"value\": \"COMP54\"}, \"COMP55\": {\"frequency\": 15767, \"value\": \"COMP55\"}, \"COMP56\": {\"frequency\": 15979, \"value\": \"COMP56\"}, \"COMP57\": {\"frequency\": 15635, \"value\": \"COMP57\"}, \"COMP58\": {\"frequency\": 15961, \"value\": \"COMP58\"}, \"COMP33\": {\"frequency\": 15801, \"value\": \"COMP33\"}, \"COMP30\": {\"frequency\": 16041, \"value\": \"COMP30\"}, \"COMP31\": {\"frequency\": 15756, \"value\": \"COMP31\"}, \"COMP36\": {\"frequency\": 15891, \"value\": \"COMP36\"}, \"COMP37\": {\"frequency\": 15905, \"value\": \"COMP37\"}, \"COMP34\": {\"frequency\": 15810, \"value\": \"COMP34\"}, \"COMP35\": {\"frequency\": 16114, \"value\": \"COMP35\"}, \"COMP2\": {\"frequency\": 15641, \"value\": \"COMP2\"}, \"COMP3\": {\"frequency\": 16028, \"value\": \"COMP3\"}, \"COMP0\": {\"frequency\": 15666, \"value\": \"COMP0\"}, \"COMP1\": {\"frequency\": 15820, \"value\": \"COMP1\"}, \"COMP6\": {\"frequency\": 15837, \"value\": \"COMP6\"}, \"COMP7\": {\"frequency\": 15767, \"value\": \"COMP7\"}, \"COMP4\": {\"frequency\": 15918, \"value\": \"COMP4\"}, \"COMP5\": {\"frequency\": 15798, \"value\": \"COMP5\"}, \"COMP8\": {\"frequency\": 15638, \"value\": \"COMP8\"}, \"COMP9\": {\"frequency\": 15988, \"value\": \"COMP9\"}, \"COMP38\": {\"frequency\": 15819, \"value\": \"COMP38\"}, \"COMP62\": {\"frequency\": 15943, \"value\": \"COMP62\"}, \"COMP21\": {\"frequency\": 15949, \"value\": \"COMP21\"}, \"COMP46\": {\"frequency\": 15967, \"value\": \"COMP46\"}, \"COMP23\": {\"frequency\": 15918, \"value\": \"COMP23\"}, \"COMP39\": {\"frequency\": 16193, \"value\": \"COMP39\"}, \"COMP28\": {\"frequency\": 15794, \"value\": \"COMP28\"}, \"COMP22\": {\"frequency\": 15907, \"value\": \"COMP22\"}, \"COMP61\": {\"frequency\": 15822, \"value\": \"COMP61\"}, \"COMP60\": {\"frequency\": 15799, \"value\": \"COMP60\"}, \"COMP49\": {\"frequency\": 15779, \"value\": \"COMP49\"}, \"COMP48\": {\"frequency\": 15930, \"value\": \"COMP48\"}, \"COMP47\": {\"frequency\": 15796, \"value\": \"COMP47\"}, \"COMP20\": {\"frequency\": 15910, \"value\": \"COMP20\"}, \"COMP45\": {\"frequency\": 15850, \"value\": \"COMP45\"}, \"COMP44\": {\"frequency\": 16005, \"value\": \"COMP44\"}, \"COMP43\": {\"frequency\": 15955, \"value\": \"COMP43\"}, \"COMP24\": {\"frequency\": 15831, \"value\": \"COMP24\"}, \"COMP41\": {\"frequency\": 15859, \"value\": \"COMP41\"}, \"COMP26\": {\"frequency\": 15750, \"value\": \"COMP26\"}, \"COMP59\": {\"frequency\": 16066, \"value\": \"COMP59\"}, \"COMP27\": {\"frequency\": 15773, \"value\": \"COMP27\"}, \"COMP32\": {\"frequency\": 15958, \"value\": \"COMP32\"}, \"COMP42\": {\"frequency\": 15944, \"value\": \"COMP42\"}, \"COMP40\": {\"frequency\": 16008, \"value\": \"COMP40\"}, \"COMP25\": {\"frequency\": 15932, \"value\": \"COMP25\"}, \"COMP14\": {\"frequency\": 15908, \"value\": \"COMP14\"}, \"COMP15\": {\"frequency\": 15901, \"value\": \"COMP15\"}, \"COMP16\": {\"frequency\": 15783, \"value\": \"COMP16\"}, \"COMP17\": {\"frequency\": 15715, \"value\": \"COMP17\"}, \"COMP10\": {\"frequency\": 15909, \"value\": \"COMP10\"}, \"COMP11\": {\"frequency\": 15872, \"value\": \"COMP11\"}, \"COMP12\": {\"frequency\": 15783, \"value\": \"COMP12\"}, \"COMP13\": {\"frequency\": 15956, \"value\": \"COMP13\"}, \"COMP29\": {\"frequency\": 15754, \"value\": \"COMP29\"}, \"COMP18\": {\"frequency\": 15957, \"value\": \"COMP18\"}, \"COMP19\": {\"frequency\": 15958, \"value\": \"COMP19\"}}, \"size\": 1000000}, \"industry\": {\"complete\": true, \"numeric\": false, \"num_unique\": 7, \"num_undefined\": 0, \"progress\": 1.0, \"frequent_items\": {\"WEB\": {\"frequency\": 143206, \"value\": \"WEB\"}, \"OIL\": {\"frequency\": 142771, \"value\": \"OIL\"}, \"FINANCE\": {\"frequency\": 142867, \"value\": \"FINANCE\"}, \"SERVICE\": {\"frequency\": 142639, \"value\": \"SERVICE\"}, \"AUTO\": {\"frequency\": 142943, \"value\": \"AUTO\"}, \"HEALTH\": {\"frequency\": 142755, \"value\": \"HEALTH\"}, \"EDUCATION\": {\"frequency\": 142819, \"value\": \"EDUCATION\"}}, \"size\": 1000000}, \"yearsExperience\": {\"std\": 7.212387262689355, \"complete\": true, \"min\": 0.0, \"max\": 24.0, \"quantile\": [0.0, 0.0, 0.0, 0.0, 1.0, 1.0, 1.0, 1.0, 2.0, 2.0, 2.0, 2.0, 3.0, 3.0, 3.0, 3.0, 4.0, 4.0, 4.0, 4.0, 5.0, 5.0, 5.0, 5.0, 5.0, 6.0, 6.0, 6.0, 7.0, 7.0, 7.0, 7.0, 8.0, 8.0, 8.0, 8.0, 8.0, 9.0, 9.0, 9.0, 9.0, 10.0, 10.0, 10.0, 10.0, 11.0, 11.0, 11.0, 11.0, 12.0, 12.0, 12.0, 13.0, 13.0, 13.0, 13.0, 14.0, 14.0, 14.0, 14.0, 15.0, 15.0, 15.0, 15.0, 16.0, 16.0, 16.0, 16.0, 17.0, 17.0, 17.0, 17.0, 18.0, 18.0, 18.0, 18.0, 19.0, 19.0, 19.0, 19.0, 20.0, 20.0, 20.0, 20.0, 21.0, 21.0, 21.0, 21.0, 22.0, 22.0, 22.0, 22.0, 23.0, 23.0, 23.0, 23.0, 24.0, 24.0, 24.0, 24.0, 24.0], \"median\": 12.0, \"numeric\": true, \"num_unique\": 25, \"num_undefined\": 0, \"var\": 52.018530027003656, \"progress\": 1.0, \"size\": 1000000, \"frequent_items\": {\"0\": {\"frequency\": 39839, \"value\": 0}, \"1\": {\"frequency\": 40265, \"value\": 1}, \"2\": {\"frequency\": 40045, \"value\": 2}, \"3\": {\"frequency\": 40191, \"value\": 3}, \"4\": {\"frequency\": 40036, \"value\": 4}, \"5\": {\"frequency\": 40013, \"value\": 5}, \"6\": {\"frequency\": 40095, \"value\": 6}, \"7\": {\"frequency\": 40047, \"value\": 7}, \"8\": {\"frequency\": 40118, \"value\": 8}, \"9\": {\"frequency\": 40235, \"value\": 9}, \"10\": {\"frequency\": 40032, \"value\": 10}, \"11\": {\"frequency\": 39949, \"value\": 11}, \"12\": {\"frequency\": 39467, \"value\": 12}, \"13\": {\"frequency\": 39826, \"value\": 13}, \"14\": {\"frequency\": 39827, \"value\": 14}, \"15\": {\"frequency\": 40312, \"value\": 15}, \"16\": {\"frequency\": 39873, \"value\": 16}, \"17\": {\"frequency\": 40072, \"value\": 17}, \"18\": {\"frequency\": 40089, \"value\": 18}, \"19\": {\"frequency\": 39860, \"value\": 19}, \"20\": {\"frequency\": 39988, \"value\": 20}, \"21\": {\"frequency\": 39759, \"value\": 21}, \"22\": {\"frequency\": 40187, \"value\": 22}, \"23\": {\"frequency\": 40015, \"value\": 23}, \"24\": {\"frequency\": 39860, \"value\": 24}}, \"mean\": 11.992386000000005}, \"jobId\": {\"complete\": true, \"numeric\": false, \"num_unique\": 999742, \"num_undefined\": 0, \"progress\": 1.0, \"frequent_items\": {}, \"size\": 1000000}, \"milesFromMetropolis\": {\"std\": 28.877718189850107, \"complete\": true, \"min\": 0.0, \"max\": 99.0, \"quantile\": [0.0, 0.0, 2.0, 2.0, 3.0, 5.0, 6.0, 7.0, 8.0, 9.0, 10.0, 11.0, 12.0, 13.0, 14.0, 15.0, 16.0, 17.0, 18.0, 19.0, 20.0, 21.0, 22.0, 23.0, 24.0, 25.0, 26.0, 27.0, 28.0, 29.0, 30.0, 31.0, 32.0, 33.0, 34.0, 35.0, 36.0, 37.0, 38.0, 39.0, 40.0, 41.0, 42.0, 43.0, 44.0, 45.0, 46.0, 47.0, 48.0, 49.0, 50.0, 51.0, 52.0, 53.0, 54.0, 55.0, 56.0, 57.0, 58.0, 59.0, 60.0, 61.0, 62.0, 63.0, 64.0, 65.0, 66.0, 67.0, 68.0, 69.0, 70.0, 71.0, 72.0, 73.0, 74.0, 75.0, 76.0, 77.0, 78.0, 79.0, 80.0, 81.0, 82.0, 83.0, 84.0, 85.0, 86.0, 87.0, 88.0, 89.0, 90.0, 91.0, 92.0, 93.0, 94.0, 95.0, 96.0, 97.0, 98.0, 99.0, 99.0], \"median\": 50.0, \"numeric\": true, \"num_unique\": 100, \"num_undefined\": 0, \"var\": 833.9226078523998, \"progress\": 1.0, \"size\": 1000000, \"frequent_items\": {\"0\": {\"frequency\": 10123, \"value\": 0}, \"1\": {\"frequency\": 10091, \"value\": 1}, \"2\": {\"frequency\": 10031, \"value\": 2}, \"3\": {\"frequency\": 10106, \"value\": 3}, \"4\": {\"frequency\": 10001, \"value\": 4}, \"5\": {\"frequency\": 9955, \"value\": 5}, \"6\": {\"frequency\": 9840, \"value\": 6}, \"7\": {\"frequency\": 10009, \"value\": 7}, \"8\": {\"frequency\": 9888, \"value\": 8}, \"9\": {\"frequency\": 9947, \"value\": 9}, \"10\": {\"frequency\": 10048, \"value\": 10}, \"11\": {\"frequency\": 9948, \"value\": 11}, \"12\": {\"frequency\": 10016, \"value\": 12}, \"13\": {\"frequency\": 10043, \"value\": 13}, \"14\": {\"frequency\": 9947, \"value\": 14}, \"15\": {\"frequency\": 9927, \"value\": 15}, \"16\": {\"frequency\": 10038, \"value\": 16}, \"17\": {\"frequency\": 10109, \"value\": 17}, \"18\": {\"frequency\": 9824, \"value\": 18}, \"19\": {\"frequency\": 10058, \"value\": 19}, \"20\": {\"frequency\": 9807, \"value\": 20}, \"21\": {\"frequency\": 10002, \"value\": 21}, \"22\": {\"frequency\": 10010, \"value\": 22}, \"23\": {\"frequency\": 9983, \"value\": 23}, \"24\": {\"frequency\": 9854, \"value\": 24}, \"25\": {\"frequency\": 10004, \"value\": 25}, \"26\": {\"frequency\": 9845, \"value\": 26}, \"27\": {\"frequency\": 9956, \"value\": 27}, \"28\": {\"frequency\": 10095, \"value\": 28}, \"29\": {\"frequency\": 10025, \"value\": 29}, \"30\": {\"frequency\": 10078, \"value\": 30}, \"31\": {\"frequency\": 9937, \"value\": 31}, \"32\": {\"frequency\": 9888, \"value\": 32}, \"33\": {\"frequency\": 10045, \"value\": 33}, \"34\": {\"frequency\": 9998, \"value\": 34}, \"35\": {\"frequency\": 9928, \"value\": 35}, \"36\": {\"frequency\": 10000, \"value\": 36}, \"37\": {\"frequency\": 10055, \"value\": 37}, \"38\": {\"frequency\": 9966, \"value\": 38}, \"39\": {\"frequency\": 10135, \"value\": 39}, \"40\": {\"frequency\": 9966, \"value\": 40}, \"41\": {\"frequency\": 10147, \"value\": 41}, \"42\": {\"frequency\": 9925, \"value\": 42}, \"43\": {\"frequency\": 9946, \"value\": 43}, \"44\": {\"frequency\": 9950, \"value\": 44}, \"45\": {\"frequency\": 10022, \"value\": 45}, \"46\": {\"frequency\": 9902, \"value\": 46}, \"47\": {\"frequency\": 9929, \"value\": 47}, \"48\": {\"frequency\": 10104, \"value\": 48}, \"49\": {\"frequency\": 9994, \"value\": 49}, \"50\": {\"frequency\": 10006, \"value\": 50}, \"51\": {\"frequency\": 10080, \"value\": 51}, \"52\": {\"frequency\": 9875, \"value\": 52}, \"53\": {\"frequency\": 10088, \"value\": 53}, \"54\": {\"frequency\": 9998, \"value\": 54}, \"55\": {\"frequency\": 9909, \"value\": 55}, \"56\": {\"frequency\": 10092, \"value\": 56}, \"57\": {\"frequency\": 9987, \"value\": 57}, \"58\": {\"frequency\": 10119, \"value\": 58}, \"59\": {\"frequency\": 9935, \"value\": 59}, \"60\": {\"frequency\": 10019, \"value\": 60}, \"61\": {\"frequency\": 10032, \"value\": 61}, \"62\": {\"frequency\": 10175, \"value\": 62}, \"63\": {\"frequency\": 10159, \"value\": 63}, \"64\": {\"frequency\": 10123, \"value\": 64}, \"65\": {\"frequency\": 9882, \"value\": 65}, \"66\": {\"frequency\": 10017, \"value\": 66}, \"67\": {\"frequency\": 9993, \"value\": 67}, \"68\": {\"frequency\": 10053, \"value\": 68}, \"69\": {\"frequency\": 9971, \"value\": 69}, \"70\": {\"frequency\": 9932, \"value\": 70}, \"71\": {\"frequency\": 10095, \"value\": 71}, \"72\": {\"frequency\": 10063, \"value\": 72}, \"73\": {\"frequency\": 9855, \"value\": 73}, \"74\": {\"frequency\": 9926, \"value\": 74}, \"75\": {\"frequency\": 10039, \"value\": 75}, \"76\": {\"frequency\": 9935, \"value\": 76}, \"77\": {\"frequency\": 9924, \"value\": 77}, \"78\": {\"frequency\": 9965, \"value\": 78}, \"79\": {\"frequency\": 9933, \"value\": 79}, \"80\": {\"frequency\": 9913, \"value\": 80}, \"81\": {\"frequency\": 10119, \"value\": 81}, \"82\": {\"frequency\": 9928, \"value\": 82}, \"83\": {\"frequency\": 9964, \"value\": 83}, \"84\": {\"frequency\": 9947, \"value\": 84}, \"85\": {\"frequency\": 10128, \"value\": 85}, \"86\": {\"frequency\": 9931, \"value\": 86}, \"87\": {\"frequency\": 9815, \"value\": 87}, \"88\": {\"frequency\": 10057, \"value\": 88}, \"89\": {\"frequency\": 9893, \"value\": 89}, \"90\": {\"frequency\": 10032, \"value\": 90}, \"91\": {\"frequency\": 9929, \"value\": 91}, \"92\": {\"frequency\": 10141, \"value\": 92}, \"93\": {\"frequency\": 10089, \"value\": 93}, \"94\": {\"frequency\": 9973, \"value\": 94}, \"95\": {\"frequency\": 10125, \"value\": 95}, \"96\": {\"frequency\": 10090, \"value\": 96}, \"97\": {\"frequency\": 10155, \"value\": 97}, \"98\": {\"frequency\": 9966, \"value\": 98}, \"99\": {\"frequency\": 10180, \"value\": 99}}, \"mean\": 49.529260000000214}, \"jobType\": {\"complete\": true, \"numeric\": false, \"num_unique\": 8, \"num_undefined\": 0, \"progress\": 1.0, \"frequent_items\": {\"CFO\": {\"frequency\": 124369, \"value\": \"CFO\"}, \"CEO\": {\"frequency\": 124778, \"value\": \"CEO\"}, \"VICE_PRESIDENT\": {\"frequency\": 125235, \"value\": \"VICE_PRESIDENT\"}, \"MANAGER\": {\"frequency\": 125121, \"value\": \"MANAGER\"}, \"SENIOR\": {\"frequency\": 125886, \"value\": \"SENIOR\"}, \"CTO\": {\"frequency\": 125046, \"value\": \"CTO\"}, \"JANITOR\": {\"frequency\": 124971, \"value\": \"JANITOR\"}, \"JUNIOR\": {\"frequency\": 124594, \"value\": \"JUNIOR\"}}, \"size\": 1000000}}, \"selected_variable\": {\"name\": [\"data\"], \"descriptives\": {\"rows\": 1000000, \"columns\": 9}, \"view_component\": \"Summary\", \"view_file\": \"sframe\", \"view_params\": {\"y\": null, \"x\": null, \"columns\": [\"jobId\", \"companyId\", \"jobType\", \"degree\", \"major\", \"industry\", \"yearsExperience\", \"milesFromMetropolis\", \"salary\"], \"view\": null}, \"view_components\": [\"Summary\", \"Table\", \"Bar Chart\", \"BoxWhisker Plot\", \"Line Chart\", \"Scatter Plot\", \"Heat Map\", \"Plots\"], \"type\": \"SFrame\", \"columns\": [{\"dtype\": \"str\", \"name\": \"jobId\"}, {\"dtype\": \"str\", \"name\": \"companyId\"}, {\"dtype\": \"str\", \"name\": \"jobType\"}, {\"dtype\": \"str\", \"name\": \"degree\"}, {\"dtype\": \"str\", \"name\": \"major\"}, {\"dtype\": \"str\", \"name\": \"industry\"}, {\"dtype\": \"int\", \"name\": \"yearsExperience\"}, {\"dtype\": \"int\", \"name\": \"milesFromMetropolis\"}, {\"dtype\": \"int\", \"name\": \"salary\"}], \"column_identifiers\": [\"salary\", \"major\", \"degree\", \"companyId\", \"industry\", \"yearsExperience\", \"jobId\", \"milesFromMetropolis\", \"jobType\"]}, \"columns\": [{\"dtype\": \"str\", \"name\": \"jobId\"}, {\"dtype\": \"str\", \"name\": \"companyId\"}, {\"dtype\": \"str\", \"name\": \"jobType\"}, {\"dtype\": \"str\", \"name\": \"degree\"}, {\"dtype\": \"str\", \"name\": \"major\"}, {\"dtype\": \"str\", \"name\": \"industry\"}, {\"dtype\": \"int\", \"name\": \"yearsExperience\"}, {\"dtype\": \"int\", \"name\": \"milesFromMetropolis\"}, {\"dtype\": \"int\", \"name\": \"salary\"}]}, e);\n",
       "                });\n",
       "            })();\n",
       "        "
      ]
     },
     "metadata": {},
     "output_type": "display_data"
    }
   ],
   "source": [
    "data.show()"
   ]
  },
  {
   "cell_type": "markdown",
   "metadata": {},
   "source": [
    "### We have mostly categorical variables, which will have to be encoded (dummy encoded) for the regression problem. Finally, the distribution for salary seems to have outliers. Let's look at it closer"
   ]
  },
  {
   "cell_type": "code",
   "execution_count": 10,
   "metadata": {},
   "outputs": [
    {
     "data": {
      "text/plain": [
       "[<matplotlib.lines.Line2D at 0x1a10f53810>]"
      ]
     },
     "execution_count": 10,
     "metadata": {},
     "output_type": "execute_result"
    },
    {
     "data": {
      "text/plain": [
       "Text(0.5,1,u'Salary histogram')"
      ]
     },
     "execution_count": 10,
     "metadata": {},
     "output_type": "execute_result"
    },
    {
     "data": {
      "text/plain": [
       "Text(0,0.5,u'Count')"
      ]
     },
     "execution_count": 10,
     "metadata": {},
     "output_type": "execute_result"
    },
    {
     "data": {
      "image/png": "[encoded data removed]",
      "text/plain": [
       "<matplotlib.figure.Figure at 0x10582dd10>"
      ]
     },
     "metadata": {},
     "output_type": "display_data"
    }
   ],
   "source": [
    "n, bins, patches = plt.hist(list(data[\"salary\"]),bins=60)\n",
    "plt.plot(bins)\n",
    "plt.title(\"Salary histogram\")\n",
    "plt.ylabel('Count')\n",
    "plt.show()"
   ]
  },
  {
   "cell_type": "markdown",
   "metadata": {},
   "source": [
    "### The distribution is greatly skewed. Let's work with it with several regression models and evaluate the resulting trained model\n",
    "* Linear regression\n",
    "* Boosted Decision Trees regression\n",
    "* Random Forest Regression\n"
   ]
  },
  {
   "cell_type": "markdown",
   "metadata": {},
   "source": [
    "### But first, let's split data into train and test set, 80% and 20% respectively)"
   ]
  },
  {
   "cell_type": "code",
   "execution_count": 11,
   "metadata": {},
   "outputs": [],
   "source": [
    "# Make a train-test split\n",
    "train_data, test_data = data.random_split(0.8,seed=1234)\n"
   ]
  },
  {
   "cell_type": "markdown",
   "metadata": {},
   "source": [
    "# Linear regression"
   ]
  },
  {
   "cell_type": "code",
   "execution_count": 12,
   "metadata": {},
   "outputs": [
    {
     "name": "stdout",
     "output_type": "stream",
     "text": [
      "Number of features          : 7\n",
      "Number of unpacked features : 7\n",
      "Number of coefficients      : 90\n",
      "+---------------------+-------------+-------------------+-------------------+\n",
      "|         name        |    index    |       value       |       stderr      |\n",
      "+---------------------+-------------+-------------------+-------------------+\n",
      "|     (intercept)     |     None    |    141.09660795   |   0.226589172412  |\n",
      "|   yearsExperience   |     None    |   2.01053266846   |  0.00311509431142 |\n",
      "| milesFromMetropolis |     None    |  -0.399469750936  | 0.000778243971799 |\n",
      "|       industry      |     AUTO    |   -6.24319228934  |  0.0840926770595  |\n",
      "|       industry      |  EDUCATION  |   -16.2195941917  |  0.0841332150531  |\n",
      "|       industry      |     OIL     |   15.0532471095   |  0.0841197695342  |\n",
      "|       industry      |   FINANCE   |   14.9050358559   |  0.0841927703472  |\n",
      "|       industry      |   SERVICE   |   -11.2315981667  |  0.0841681623045  |\n",
      "|       industry      |     WEB     |   5.88753320809   |  0.0841510518621  |\n",
      "|        major        |  CHEMISTRY  |   -4.00834165234  |   0.13148460574   |\n",
      "|        major        |     NONE    |   -9.99677161226  |   0.131894288555  |\n",
      "|        major        |   PHYSICS   |   -2.60884585518  |   0.131838583975  |\n",
      "|        major        |   BIOLOGY   |   -5.01855971843  |   0.132019574586  |\n",
      "|        major        |  LITERATURE |   -8.65516026037  |   0.131624536366  |\n",
      "|        major        |   BUSINESS  |    2.7060066504   |   0.131978620977  |\n",
      "|        major        | ENGINEERING |    5.4958034365   |   0.131769764003  |\n",
      "|        major        |   COMPSCI   |  -0.934078857164  |   0.131804886831  |\n",
      "|        degree       |   DOCTORAL  |   5.04126594881   |  0.0759284684781  |\n",
      "|        degree       |     NONE    |   -14.3796815368  |   0.114479019208  |\n",
      "|        degree       |  BACHELORS  |   -4.98635325551  |  0.0758604852572  |\n",
      "|        degree       | HIGH_SCHOOL |   -10.6684655256  |   0.114466248001  |\n",
      "|      companyId      |    COMP38   |   0.192372345733  |   0.252406569916  |\n",
      "|      companyId      |    COMP15   |  -0.0471817095446 |   0.251843055138  |\n",
      "|      companyId      |    COMP24   |   0.300152625999  |   0.252511079356  |\n",
      "|      companyId      |    COMP20   |  0.0296700897255  |   0.251911016736  |\n",
      "|      companyId      |    COMP41   |   0.342260886606  |   0.252118854724  |\n",
      "|      companyId      |    COMP56   | -0.00355414994526 |   0.251542232377  |\n",
      "|      companyId      |    COMP7    |  -0.0716731689572 |   0.25272329999   |\n",
      "|      companyId      |    COMP4    |   0.353246671317  |   0.252134336703  |\n",
      "|      companyId      |    COMP54   |   0.155099267347  |   0.251867419314  |\n",
      "+---------------------+-------------+-------------------+-------------------+\n",
      "[90 rows x 4 columns]\n",
      "\n",
      "None\n"
     ]
    }
   ],
   "source": [
    "# Create a model with categorical features.\n",
    "model_lr = gl.linear_regression.create(train_data, target='salary',\n",
    "                                    features = ['yearsExperience',\n",
    "                                                'milesFromMetropolis',\n",
    "                                                'industry',\n",
    "                                                'major',\n",
    "                                                'degree',\n",
    "                                                'companyId',\n",
    "                                                 'jobType'],\n",
    "                                feature_rescaling = False, verbose=False)\n",
    "\n",
    "# Number of feature columns\n",
    "print(\"Number of features          : %s\" % model_lr['num_features'])\n",
    "\n",
    "# Number of features (including expanded lists and dictionaries)\n",
    "print(\"Number of unpacked features : %s\" % model_lr['num_unpacked_features'])\n",
    "\n",
    "# Number of coefficients in the model\n",
    "print(\"Number of coefficients      : %s\" % model_lr['num_coefficients'])\n",
    "\n",
    "# A coefficient is included for each category\n",
    "print(model_lr['coefficients'].print_rows(30))"
   ]
  },
  {
   "cell_type": "markdown",
   "metadata": {},
   "source": [
    "### Evaluate performance with the test set"
   ]
  },
  {
   "cell_type": "code",
   "execution_count": 14,
   "metadata": {},
   "outputs": [
    {
     "name": "stdout",
     "output_type": "stream",
     "text": [
      " Evaluation metrics:  {'max_error': 180.46847502955546, 'rmse': 19.638006296230873}\n"
     ]
    }
   ],
   "source": [
    "# Save predictions to an SFrame (class and corresponding class-probabilities)\n",
    "predictions = model_lr.predict(test_data)\n",
    "\n",
    "# Evaluate the model and save the results into a dictionary\n",
    "results = model_lr.evaluate(test_data)\n",
    "\n",
    "print \" Evaluation metrics: \", results"
   ]
  },
  {
   "cell_type": "markdown",
   "metadata": {},
   "source": [
    "## Boosted Decision Trees Regression"
   ]
  },
  {
   "cell_type": "code",
   "execution_count": 29,
   "metadata": {},
   "outputs": [],
   "source": [
    "model_bt = gl.boosted_trees_regression.create(train_data, target='salary',\n",
    "                                           features = [\n",
    "                                                'milesFromMetropolis',\n",
    "                                                'yearsExperience',\n",
    "                                                'industry',\n",
    "                                                'major',\n",
    "                                                'degree',\n",
    "                                                'companyId',\n",
    "                                                 'jobType'],\n",
    "                                           max_iterations=40,\n",
    "                                           max_depth =  6, verbose=False)\n",
    "\n"
   ]
  },
  {
   "cell_type": "code",
   "execution_count": 30,
   "metadata": {},
   "outputs": [
    {
     "name": "stdout",
     "output_type": "stream",
     "text": [
      " Evaluation metrics:  {'max_error': 187.51661682128906, 'rmse': 19.056504520903147}\n"
     ]
    }
   ],
   "source": [
    "# Save predictions to an SArray\n",
    "predictions_bt = model_bt.predict(test_data)\n",
    "\n",
    "# Evaluate the model and save the results into a dictionary\n",
    "results_bt = model_bt.evaluate(test_data)\n",
    "print \" Evaluation metrics: \", results_bt"
   ]
  },
  {
   "cell_type": "markdown",
   "metadata": {},
   "source": [
    "## Random Forest Regression"
   ]
  },
  {
   "cell_type": "code",
   "execution_count": 31,
   "metadata": {},
   "outputs": [],
   "source": [
    "# Create a model.\n",
    "model_rf = gl.random_forest_regression.create(train_data, target='salary',\n",
    "                                           features = ['yearsExperience',\n",
    "                                                'milesFromMetropolis',\n",
    "                                                'industry',\n",
    "                                                'major',\n",
    "                                                'degree',\n",
    "                                                'companyId',\n",
    "                                                 'jobType'],\n",
    "                                           max_iterations=100,\n",
    "                                           max_depth =  6, verbose=False)\n"
   ]
  },
  {
   "cell_type": "code",
   "execution_count": 32,
   "metadata": {},
   "outputs": [
    {
     "name": "stdout",
     "output_type": "stream",
     "text": [
      " Evaluation metrics:  {'max_error': 154.817626953125, 'rmse': 24.312961312295222}\n"
     ]
    }
   ],
   "source": [
    "# Save predictions to an SArray\n",
    "predictions_rf = model_rf.predict(test_data)\n",
    "\n",
    "# Evaluate the model and save the results into a dictionary\n",
    "results_rf = model_rf.evaluate(test_data)\n",
    "print \" Evaluation metrics: \", results_rf"
   ]
  },
  {
   "cell_type": "code",
   "execution_count": null,
   "metadata": {},
   "outputs": [],
   "source": []
  },
  {
   "cell_type": "markdown",
   "metadata": {},
   "source": [
    "## Important features"
   ]
  },
  {
   "cell_type": "code",
   "execution_count": 261,
   "metadata": {},
   "outputs": [
    {
     "name": "stdout",
     "output_type": "stream",
     "text": [
      "+---------------------+-------------+-------------------+-------------------+\n",
      "|         name        |    index    |       value       |       stderr      |\n",
      "+---------------------+-------------+-------------------+-------------------+\n",
      "|     (intercept)     |     None    |    141.09660795   |   0.226589172412  |\n",
      "|   yearsExperience   |     None    |   2.01053266846   |  0.00311509431142 |\n",
      "| milesFromMetropolis |     None    |  -0.399469750936  | 0.000778243971799 |\n",
      "|       industry      |     AUTO    |   -6.24319228934  |  0.0840926770595  |\n",
      "|       industry      |  EDUCATION  |   -16.2195941917  |  0.0841332150531  |\n",
      "|       industry      |     OIL     |   15.0532471095   |  0.0841197695342  |\n",
      "|       industry      |   FINANCE   |   14.9050358559   |  0.0841927703472  |\n",
      "|       industry      |   SERVICE   |   -11.2315981667  |  0.0841681623045  |\n",
      "|       industry      |     WEB     |   5.88753320809   |  0.0841510518621  |\n",
      "|        major        |  CHEMISTRY  |   -4.00834165234  |   0.13148460574   |\n",
      "|        major        |     NONE    |   -9.99677161226  |   0.131894288555  |\n",
      "|        major        |   PHYSICS   |   -2.60884585518  |   0.131838583975  |\n",
      "|        major        |   BIOLOGY   |   -5.01855971843  |   0.132019574586  |\n",
      "|        major        |  LITERATURE |   -8.65516026037  |   0.131624536366  |\n",
      "|        major        |   BUSINESS  |    2.7060066504   |   0.131978620977  |\n",
      "|        major        | ENGINEERING |    5.4958034365   |   0.131769764003  |\n",
      "|        major        |   COMPSCI   |  -0.934078857164  |   0.131804886831  |\n",
      "|        degree       |   DOCTORAL  |   5.04126594881   |  0.0759284684781  |\n",
      "|        degree       |     NONE    |   -14.3796815368  |   0.114479019208  |\n",
      "|        degree       |  BACHELORS  |   -4.98635325551  |  0.0758604852572  |\n",
      "|        degree       | HIGH_SCHOOL |   -10.6684655256  |   0.114466248001  |\n",
      "|      companyId      |    COMP38   |   0.192372345733  |   0.252406569916  |\n",
      "|      companyId      |    COMP15   |  -0.0471817095446 |   0.251843055138  |\n",
      "|      companyId      |    COMP24   |   0.300152625999  |   0.252511079356  |\n",
      "|      companyId      |    COMP20   |  0.0296700897255  |   0.251911016736  |\n",
      "|      companyId      |    COMP41   |   0.342260886606  |   0.252118854724  |\n",
      "|      companyId      |    COMP56   | -0.00355414994526 |   0.251542232377  |\n",
      "|      companyId      |    COMP7    |  -0.0716731689572 |   0.25272329999   |\n",
      "|      companyId      |    COMP4    |   0.353246671317  |   0.252134336703  |\n",
      "|      companyId      |    COMP54   |   0.155099267347  |   0.251867419314  |\n",
      "+---------------------+-------------+-------------------+-------------------+\n",
      "[90 rows x 4 columns]\n",
      "\n",
      "None\n",
      "+---------------------+----------------+-------+\n",
      "|         name        |     index      | count |\n",
      "+---------------------+----------------+-------+\n",
      "| milesFromMetropolis |      None      |  437  |\n",
      "|   yearsExperience   |      None      |  434  |\n",
      "|       industry      |   EDUCATION    |  123  |\n",
      "|       industry      |      OIL       |   82  |\n",
      "|       industry      |    FINANCE     |   75  |\n",
      "|        major        |      NONE      |   75  |\n",
      "|       industry      |    SERVICE     |   73  |\n",
      "|       jobType       |     JUNIOR     |   70  |\n",
      "|       jobType       |      CEO       |   64  |\n",
      "|        degree       |    DOCTORAL    |   60  |\n",
      "|       jobType       |     SENIOR     |   58  |\n",
      "|        major        |    BUSINESS    |   55  |\n",
      "|       industry      |      WEB       |   51  |\n",
      "|       industry      |     HEALTH     |   47  |\n",
      "|       jobType       |    MANAGER     |   45  |\n",
      "|        degree       |      NONE      |   44  |\n",
      "|       jobType       | VICE_PRESIDENT |   42  |\n",
      "|        major        |   LITERATURE   |   41  |\n",
      "|       jobType       |      CFO       |   41  |\n",
      "|        major        |   CHEMISTRY    |   41  |\n",
      "|       jobType       |      CTO       |   40  |\n",
      "|        major        |  ENGINEERING   |   40  |\n",
      "|        degree       |   BACHELORS    |   38  |\n",
      "|        major        |    BIOLOGY     |   36  |\n",
      "|       industry      |      AUTO      |   36  |\n",
      "|       jobType       |    JANITOR     |   34  |\n",
      "|        degree       |    MASTERS     |   28  |\n",
      "|        major        |    PHYSICS     |   18  |\n",
      "|        degree       |  HIGH_SCHOOL   |   17  |\n",
      "|        major        |    COMPSCI     |   15  |\n",
      "|        major        |      MATH      |   13  |\n",
      "|      companyId      |     COMP50     |   9   |\n",
      "|      companyId      |     COMP59     |   8   |\n",
      "|      companyId      |     COMP11     |   8   |\n",
      "|      companyId      |     COMP9      |   7   |\n",
      "|      companyId      |     COMP33     |   6   |\n",
      "|      companyId      |     COMP55     |   6   |\n",
      "|      companyId      |     COMP35     |   6   |\n",
      "|      companyId      |     COMP57     |   6   |\n",
      "|      companyId      |     COMP21     |   6   |\n",
      "|      companyId      |     COMP15     |   6   |\n",
      "|      companyId      |     COMP42     |   6   |\n",
      "|      companyId      |     COMP39     |   6   |\n",
      "|      companyId      |     COMP13     |   6   |\n",
      "|      companyId      |     COMP47     |   5   |\n",
      "|      companyId      |     COMP54     |   5   |\n",
      "|      companyId      |     COMP58     |   5   |\n",
      "|      companyId      |     COMP10     |   5   |\n",
      "|      companyId      |     COMP45     |   5   |\n",
      "|      companyId      |     COMP34     |   5   |\n",
      "|      companyId      |     COMP19     |   5   |\n",
      "|      companyId      |     COMP60     |   5   |\n",
      "|      companyId      |     COMP1      |   5   |\n",
      "|      companyId      |     COMP38     |   5   |\n",
      "|      companyId      |     COMP14     |   5   |\n",
      "|      companyId      |     COMP44     |   4   |\n",
      "|      companyId      |     COMP20     |   4   |\n",
      "|      companyId      |     COMP27     |   4   |\n",
      "|      companyId      |     COMP6      |   4   |\n",
      "|      companyId      |     COMP2      |   4   |\n",
      "|      companyId      |     COMP23     |   4   |\n",
      "|      companyId      |     COMP5      |   4   |\n",
      "|      companyId      |     COMP31     |   4   |\n",
      "|      companyId      |     COMP16     |   4   |\n",
      "|      companyId      |     COMP8      |   4   |\n",
      "|      companyId      |     COMP51     |   4   |\n",
      "|      companyId      |     COMP48     |   4   |\n",
      "|      companyId      |     COMP12     |   4   |\n",
      "|      companyId      |     COMP53     |   3   |\n",
      "|      companyId      |     COMP26     |   3   |\n",
      "|      companyId      |     COMP36     |   3   |\n",
      "|      companyId      |     COMP24     |   3   |\n",
      "|      companyId      |     COMP29     |   3   |\n",
      "|      companyId      |     COMP52     |   3   |\n",
      "|      companyId      |     COMP28     |   3   |\n",
      "|      companyId      |     COMP3      |   3   |\n",
      "|      companyId      |     COMP17     |   2   |\n",
      "|      companyId      |     COMP62     |   2   |\n",
      "|      companyId      |     COMP40     |   2   |\n",
      "|      companyId      |     COMP22     |   2   |\n",
      "|      companyId      |     COMP37     |   2   |\n",
      "|      companyId      |     COMP0      |   2   |\n",
      "|      companyId      |     COMP41     |   2   |\n",
      "|      companyId      |     COMP61     |   2   |\n",
      "|      companyId      |     COMP25     |   2   |\n",
      "|      companyId      |     COMP18     |   1   |\n",
      "|      companyId      |     COMP4      |   1   |\n",
      "|      companyId      |     COMP43     |   1   |\n",
      "|      companyId      |     COMP56     |   1   |\n",
      "|      companyId      |     COMP49     |   1   |\n",
      "|      companyId      |     COMP46     |   1   |\n",
      "|      companyId      |     COMP30     |   0   |\n",
      "|      companyId      |     COMP7      |   0   |\n",
      "|      companyId      |     COMP32     |   0   |\n",
      "+---------------------+----------------+-------+\n",
      "[94 rows x 3 columns]\n",
      "\n",
      "None\n",
      "+---------------------+----------------+-------+\n",
      "|         name        |     index      | count |\n",
      "+---------------------+----------------+-------+\n",
      "|   yearsExperience   |      None      |  1327 |\n",
      "| milesFromMetropolis |      None      |  1307 |\n",
      "|       industry      |   EDUCATION    |  903  |\n",
      "|        major        |      NONE      |  416  |\n",
      "|       industry      |    SERVICE     |  353  |\n",
      "|       industry      |      OIL       |  243  |\n",
      "|       jobType       |      CEO       |  216  |\n",
      "|       jobType       |     JUNIOR     |  201  |\n",
      "|       industry      |    FINANCE     |  167  |\n",
      "|       jobType       |     SENIOR     |  147  |\n",
      "|        degree       |      NONE      |  116  |\n",
      "|       jobType       |      CTO       |  106  |\n",
      "|       jobType       |      CFO       |  105  |\n",
      "|       jobType       |    MANAGER     |   99  |\n",
      "|       industry      |      AUTO      |   82  |\n",
      "|       jobType       |    JANITOR     |   80  |\n",
      "|        degree       |  HIGH_SCHOOL   |   65  |\n",
      "|        degree       |    DOCTORAL    |   44  |\n",
      "|       jobType       | VICE_PRESIDENT |   39  |\n",
      "|       industry      |      WEB       |   15  |\n",
      "|        degree       |   BACHELORS    |   12  |\n",
      "|        degree       |    MASTERS     |   12  |\n",
      "|        major        |  ENGINEERING   |   10  |\n",
      "|       industry      |     HEALTH     |   7   |\n",
      "|        major        |    BUSINESS    |   7   |\n",
      "|        major        |   LITERATURE   |   3   |\n",
      "|      companyId      |     COMP60     |   2   |\n",
      "|      companyId      |     COMP28     |   2   |\n",
      "|      companyId      |     COMP38     |   1   |\n",
      "|        major        |   CHEMISTRY    |   1   |\n",
      "|      companyId      |     COMP29     |   1   |\n",
      "|      companyId      |     COMP4      |   0   |\n",
      "|      companyId      |     COMP54     |   0   |\n",
      "+---------------------+----------------+-------+\n",
      "[94 rows x 3 columns]\n",
      "\n",
      "None\n"
     ]
    }
   ],
   "source": [
    "print(model_lr['coefficients'].print_rows(30))\n",
    "print(model_bt.get_feature_importance().print_rows(94))\n",
    "print(model_rf.get_feature_importance().print_rows(33))"
   ]
  },
  {
   "cell_type": "code",
   "execution_count": null,
   "metadata": {},
   "outputs": [],
   "source": []
  },
  {
   "cell_type": "markdown",
   "metadata": {},
   "source": [
    "## Could Extreme Gradient Boosting work better?\n",
    "Let's try it, but now using pandas"
   ]
  },
  {
   "cell_type": "code",
   "execution_count": 46,
   "metadata": {},
   "outputs": [],
   "source": [
    "datap = data.to_dataframe()\n",
    "datap.set_index(\"jobId\",inplace=True)"
   ]
  },
  {
   "cell_type": "code",
   "execution_count": 47,
   "metadata": {},
   "outputs": [
    {
     "data": {
      "text/html": [
       "<div>\n",
       "<style scoped>\n",
       "    .dataframe tbody tr th:only-of-type {\n",
       "        vertical-align: middle;\n",
       "    }\n",
       "\n",
       "    .dataframe tbody tr th {\n",
       "        vertical-align: top;\n",
       "    }\n",
       "\n",
       "    .dataframe thead th {\n",
       "        text-align: right;\n",
       "    }\n",
       "</style>\n",
       "<table border=\"1\" class=\"dataframe\">\n",
       "  <thead>\n",
       "    <tr style=\"text-align: right;\">\n",
       "      <th></th>\n",
       "      <th>companyId</th>\n",
       "      <th>jobType</th>\n",
       "      <th>degree</th>\n",
       "      <th>major</th>\n",
       "      <th>industry</th>\n",
       "      <th>yearsExperience</th>\n",
       "      <th>milesFromMetropolis</th>\n",
       "      <th>salary</th>\n",
       "    </tr>\n",
       "    <tr>\n",
       "      <th>jobId</th>\n",
       "      <th></th>\n",
       "      <th></th>\n",
       "      <th></th>\n",
       "      <th></th>\n",
       "      <th></th>\n",
       "      <th></th>\n",
       "      <th></th>\n",
       "      <th></th>\n",
       "    </tr>\n",
       "  </thead>\n",
       "  <tbody>\n",
       "    <tr>\n",
       "      <th>JOB1362684407687</th>\n",
       "      <td>COMP37</td>\n",
       "      <td>CFO</td>\n",
       "      <td>MASTERS</td>\n",
       "      <td>MATH</td>\n",
       "      <td>HEALTH</td>\n",
       "      <td>10</td>\n",
       "      <td>83</td>\n",
       "      <td>130</td>\n",
       "    </tr>\n",
       "    <tr>\n",
       "      <th>JOB1362684407688</th>\n",
       "      <td>COMP19</td>\n",
       "      <td>CEO</td>\n",
       "      <td>HIGH_SCHOOL</td>\n",
       "      <td>NONE</td>\n",
       "      <td>WEB</td>\n",
       "      <td>3</td>\n",
       "      <td>73</td>\n",
       "      <td>101</td>\n",
       "    </tr>\n",
       "    <tr>\n",
       "      <th>JOB1362684407689</th>\n",
       "      <td>COMP52</td>\n",
       "      <td>VICE_PRESIDENT</td>\n",
       "      <td>DOCTORAL</td>\n",
       "      <td>PHYSICS</td>\n",
       "      <td>HEALTH</td>\n",
       "      <td>10</td>\n",
       "      <td>38</td>\n",
       "      <td>137</td>\n",
       "    </tr>\n",
       "    <tr>\n",
       "      <th>JOB1362684407690</th>\n",
       "      <td>COMP38</td>\n",
       "      <td>MANAGER</td>\n",
       "      <td>DOCTORAL</td>\n",
       "      <td>CHEMISTRY</td>\n",
       "      <td>AUTO</td>\n",
       "      <td>8</td>\n",
       "      <td>17</td>\n",
       "      <td>142</td>\n",
       "    </tr>\n",
       "    <tr>\n",
       "      <th>JOB1362684407691</th>\n",
       "      <td>COMP7</td>\n",
       "      <td>VICE_PRESIDENT</td>\n",
       "      <td>BACHELORS</td>\n",
       "      <td>PHYSICS</td>\n",
       "      <td>FINANCE</td>\n",
       "      <td>8</td>\n",
       "      <td>16</td>\n",
       "      <td>163</td>\n",
       "    </tr>\n",
       "  </tbody>\n",
       "</table>\n",
       "</div>"
      ],
      "text/plain": [
       "                 companyId         jobType       degree      major industry  \\\n",
       "jobId                                                                         \n",
       "JOB1362684407687    COMP37             CFO      MASTERS       MATH   HEALTH   \n",
       "JOB1362684407688    COMP19             CEO  HIGH_SCHOOL       NONE      WEB   \n",
       "JOB1362684407689    COMP52  VICE_PRESIDENT     DOCTORAL    PHYSICS   HEALTH   \n",
       "JOB1362684407690    COMP38         MANAGER     DOCTORAL  CHEMISTRY     AUTO   \n",
       "JOB1362684407691     COMP7  VICE_PRESIDENT    BACHELORS    PHYSICS  FINANCE   \n",
       "\n",
       "                  yearsExperience  milesFromMetropolis  salary  \n",
       "jobId                                                           \n",
       "JOB1362684407687               10                   83     130  \n",
       "JOB1362684407688                3                   73     101  \n",
       "JOB1362684407689               10                   38     137  \n",
       "JOB1362684407690                8                   17     142  \n",
       "JOB1362684407691                8                   16     163  "
      ]
     },
     "execution_count": 47,
     "metadata": {},
     "output_type": "execute_result"
    }
   ],
   "source": [
    "datap.head()"
   ]
  },
  {
   "cell_type": "markdown",
   "metadata": {},
   "source": [
    "## Now we have to do the dummy encoding and pandas offers that possibility really nicely and quick"
   ]
  },
  {
   "cell_type": "code",
   "execution_count": 197,
   "metadata": {},
   "outputs": [],
   "source": [
    "train_df = pd.get_dummies( train_data.to_dataframe(), columns =[\"industry\",\"jobType\",\"degree\",\"major\",\"companyId\"] )\n",
    "test_df = pd.get_dummies( test_data.to_dataframe(), columns =[\"industry\",\"jobType\",\"degree\",\"major\",\"companyId\"] )"
   ]
  },
  {
   "cell_type": "code",
   "execution_count": 198,
   "metadata": {},
   "outputs": [],
   "source": [
    "#data_with_dummies.head()"
   ]
  },
  {
   "cell_type": "code",
   "execution_count": 199,
   "metadata": {},
   "outputs": [],
   "source": [
    "train_y = train_df[\"salary\"].as_matrix()\n",
    "train_X = train_df.drop(['jobId','salary'], axis=1).as_matrix()\n",
    "test_y  = test_df[\"salary\"].as_matrix()\n",
    "test_X = test_df.drop(['jobId','salary'],axis=1).as_matrix()"
   ]
  },
  {
   "cell_type": "markdown",
   "metadata": {},
   "source": [
    "## Now let's do the regression using the XGBRegresson from xgboost"
   ]
  },
  {
   "cell_type": "code",
   "execution_count": 90,
   "metadata": {},
   "outputs": [
    {
     "data": {
      "text/plain": [
       "XGBRegressor(base_score=0.5, booster='gbtree', colsample_bylevel=1,\n",
       "       colsample_bytree=1, gamma=0, learning_rate=0.1, max_delta_step=0,\n",
       "       max_depth=5, min_child_weight=1, missing=None, n_estimators=100,\n",
       "       n_jobs=1, nthread=None, objective='reg:linear', random_state=0,\n",
       "       reg_alpha=0, reg_lambda=1, scale_pos_weight=1, seed=None,\n",
       "       silent=True, subsample=1)"
      ]
     },
     "execution_count": 90,
     "metadata": {},
     "output_type": "execute_result"
    }
   ],
   "source": [
    "my_model = XGBRegressor(max_depth=5)\n",
    "my_model.fit(train_X, train_y,verbose=False)"
   ]
  },
  {
   "cell_type": "markdown",
   "metadata": {},
   "source": [
    "### Evaluate performance as the other algorithms and return residuals, we might want to take a deeper look on how they behave"
   ]
  },
  {
   "cell_type": "code",
   "execution_count": 91,
   "metadata": {},
   "outputs": [],
   "source": [
    "from sklearn.metrics import mean_absolute_error\n",
    "from sklearn.metrics import mean_squared_error\n",
    "    \n",
    "def print_and_return_residuals(X,y,model):\n",
    "    predictions = model.predict(X)\n",
    "    print(\"Mean Absolute Error : \" + str(mean_absolute_error(predictions, y)))\n",
    "    print(\"Root Mean Squared Error : \" + str(np.sqrt(mean_squared_error(predictions, y))))\n",
    "    print(\"Max error: \" + str(np.max(np.subtract(predictions,y).max())))\n",
    "    return np.subtract(predictions,y)\n",
    "    "
   ]
  },
  {
   "cell_type": "code",
   "execution_count": 92,
   "metadata": {},
   "outputs": [
    {
     "name": "stdout",
     "output_type": "stream",
     "text": [
      "Test results: \n",
      "Mean Absolute Error : 15.3893866942\n",
      "Root Mean Squared Error : 18.9759171966\n",
      "Max error: 184.299194336\n",
      "Training results: \n",
      "Mean Absolute Error : 15.3522845868\n",
      "Root Mean Squared Error : 18.9066518366\n",
      "Max error: 138.330810547\n"
     ]
    }
   ],
   "source": [
    "print(\"Test results: \")\n",
    "test_residuals = print_and_return_residuals(test_X,test_y,my_model)\n",
    "print(\"Training results: \")\n",
    "train_residuals = print_and_return_residuals(train_X,train_y,my_model)\n"
   ]
  },
  {
   "cell_type": "markdown",
   "metadata": {},
   "source": [
    "## The results are very similar to the ones found in the previous attempts. The regression model seems to have a hard time capturing the long tail that the salaries distribution has. Let's look at the residuals"
   ]
  },
  {
   "cell_type": "markdown",
   "metadata": {},
   "source": [
    "## It is not obvious to make conclusions yet, let's look at the residuals "
   ]
  },
  {
   "cell_type": "code",
   "execution_count": 71,
   "metadata": {},
   "outputs": [
    {
     "data": {
      "text/plain": [
       "[<matplotlib.lines.Line2D at 0x1a62acab10>]"
      ]
     },
     "execution_count": 71,
     "metadata": {},
     "output_type": "execute_result"
    },
    {
     "data": {
      "text/plain": [
       "Text(0.5,1,u'Test residuals XGBoost')"
      ]
     },
     "execution_count": 71,
     "metadata": {},
     "output_type": "execute_result"
    },
    {
     "data": {
      "text/plain": [
       "Text(0,0.5,u'Count')"
      ]
     },
     "execution_count": 71,
     "metadata": {},
     "output_type": "execute_result"
    },
    {
     "data": {
      "image/png": "[encoded data removed]",
      "text/plain": [
       "<matplotlib.figure.Figure at 0x1a6291f6d0>"
      ]
     },
     "metadata": {},
     "output_type": "display_data"
    }
   ],
   "source": [
    "n, bins, patches = plt.hist(test_residuals,bins=30)\n",
    "plt.plot(bins)\n",
    "plt.title(\"Test residuals XGBoost\")\n",
    "plt.ylabel('Count')\n",
    "plt.show()"
   ]
  },
  {
   "cell_type": "code",
   "execution_count": 82,
   "metadata": {},
   "outputs": [
    {
     "data": {
      "text/plain": [
       "[<matplotlib.lines.Line2D at 0x1a275a9e90>]"
      ]
     },
     "execution_count": 82,
     "metadata": {},
     "output_type": "execute_result"
    },
    {
     "data": {
      "text/plain": [
       "Text(0.5,1,u'Train residuals XGBoost')"
      ]
     },
     "execution_count": 82,
     "metadata": {},
     "output_type": "execute_result"
    },
    {
     "data": {
      "text/plain": [
       "Text(0,0.5,u'Count')"
      ]
     },
     "execution_count": 82,
     "metadata": {},
     "output_type": "execute_result"
    },
    {
     "data": {
      "image/png": "[encoded data removed]",
      "text/plain": [
       "<matplotlib.figure.Figure at 0x1a27577250>"
      ]
     },
     "metadata": {},
     "output_type": "display_data"
    }
   ],
   "source": [
    "n, bins, patches = plt.hist(train_residuals,bins=50)\n",
    "plt.plot(bins)\n",
    "plt.title(\"Train residuals XGBoost\")\n",
    "plt.ylabel('Count')\n",
    "plt.show()"
   ]
  },
  {
   "cell_type": "code",
   "execution_count": 70,
   "metadata": {},
   "outputs": [],
   "source": [
    "residuals_bt = predictions_bt - test_data[\"salary\"]\n",
    "residuals_rf = predictions_rf - test_data[\"salary\"]"
   ]
  },
  {
   "cell_type": "code",
   "execution_count": 73,
   "metadata": {},
   "outputs": [
    {
     "data": {
      "text/plain": [
       "[<matplotlib.lines.Line2D at 0x1a364f3790>]"
      ]
     },
     "execution_count": 73,
     "metadata": {},
     "output_type": "execute_result"
    },
    {
     "data": {
      "text/plain": [
       "Text(0.5,1,u'Test residuals Boosted Tree')"
      ]
     },
     "execution_count": 73,
     "metadata": {},
     "output_type": "execute_result"
    },
    {
     "data": {
      "text/plain": [
       "Text(0,0.5,u'Count')"
      ]
     },
     "execution_count": 73,
     "metadata": {},
     "output_type": "execute_result"
    },
    {
     "data": {
      "image/png": "[encoded data removed]",
      "text/plain": [
       "<matplotlib.figure.Figure at 0x1a36b29790>"
      ]
     },
     "metadata": {},
     "output_type": "display_data"
    }
   ],
   "source": [
    "n, bins, patches = plt.hist(residuals_bt,bins=50)\n",
    "plt.plot(bins)\n",
    "plt.title(\"Test residuals Boosted Tree\")\n",
    "plt.ylabel('Count')\n",
    "plt.show()"
   ]
  },
  {
   "cell_type": "code",
   "execution_count": 74,
   "metadata": {},
   "outputs": [
    {
     "data": {
      "text/plain": [
       "[<matplotlib.lines.Line2D at 0x1a25ed2e10>]"
      ]
     },
     "execution_count": 74,
     "metadata": {},
     "output_type": "execute_result"
    },
    {
     "data": {
      "text/plain": [
       "Text(0.5,1,u'Test residuals Random Forest')"
      ]
     },
     "execution_count": 74,
     "metadata": {},
     "output_type": "execute_result"
    },
    {
     "data": {
      "text/plain": [
       "Text(0,0.5,u'Count')"
      ]
     },
     "execution_count": 74,
     "metadata": {},
     "output_type": "execute_result"
    },
    {
     "data": {
      "image/png": "[encoded data removed]",
      "text/plain": [
       "<matplotlib.figure.Figure at 0x1a4081cd90>"
      ]
     },
     "metadata": {},
     "output_type": "display_data"
    }
   ],
   "source": [
    "n, bins, patches = plt.hist(residuals_rf,bins=50)\n",
    "plt.plot(bins)\n",
    "plt.title(\"Test residuals Random Forest\")\n",
    "plt.ylabel('Count')\n",
    "plt.show()"
   ]
  },
  {
   "cell_type": "code",
   "execution_count": 81,
   "metadata": {},
   "outputs": [
    {
     "data": {
      "text/plain": [
       "78.31996154785156"
      ]
     },
     "execution_count": 81,
     "metadata": {},
     "output_type": "execute_result"
    }
   ],
   "source": [
    "(residuals_bt-residuals_rf).max()"
   ]
  },
  {
   "cell_type": "markdown",
   "metadata": {},
   "source": [
    "## In this first attempt to predict the salary, we noticed that only two regression models seem \"fairly\" well behaved in terms of residuals. Those are Boosted Decision Trees and XGBoost. We have residual outliers from salaries that seem hard to predict by any of the two regression models. We might be able to improve the model if we use the first modeling pass on XGBoost regression and remove outliers. Let's keep data within 2.5 standard deviations from zero in the residuals (on the"
   ]
  },
  {
   "cell_type": "code",
   "execution_count": 248,
   "metadata": {},
   "outputs": [
    {
     "data": {
      "text/plain": [
       "(800067, 10)"
      ]
     },
     "execution_count": 248,
     "metadata": {},
     "output_type": "execute_result"
    },
    {
     "data": {
      "text/plain": [
       "(800067, 94)"
      ]
     },
     "execution_count": 248,
     "metadata": {},
     "output_type": "execute_result"
    },
    {
     "data": {
      "text/plain": [
       "(800067,)"
      ]
     },
     "execution_count": 248,
     "metadata": {},
     "output_type": "execute_result"
    }
   ],
   "source": [
    "train_data.shape\n",
    "train_X.shape\n",
    "train_y.shape"
   ]
  },
  {
   "cell_type": "code",
   "execution_count": 249,
   "metadata": {},
   "outputs": [],
   "source": [
    "residuals_train_bt = model_bt.predict(train_data)\n",
    "residuals_train_xbg = my_model.predict(train_X)\n",
    "\n",
    "residuals_train_bt = residuals_train_bt - train_data[\"salary\"]\n",
    "residuals_train_xbg = residuals_train_xbg - train_y"
   ]
  },
  {
   "cell_type": "code",
   "execution_count": 250,
   "metadata": {},
   "outputs": [
    {
     "data": {
      "text/plain": [
       "-0.005456341775577892"
      ]
     },
     "execution_count": 250,
     "metadata": {},
     "output_type": "execute_result"
    },
    {
     "data": {
      "text/plain": [
       "18.952419422833977"
      ]
     },
     "execution_count": 250,
     "metadata": {},
     "output_type": "execute_result"
    }
   ],
   "source": [
    "residuals_train_bt.mean()\n",
    "residuals_train_bt.std()"
   ]
  },
  {
   "cell_type": "code",
   "execution_count": 251,
   "metadata": {},
   "outputs": [
    {
     "data": {
      "text/plain": [
       "-0.0030882984052366803"
      ]
     },
     "execution_count": 251,
     "metadata": {},
     "output_type": "execute_result"
    },
    {
     "data": {
      "text/plain": [
       "18.906651584342786"
      ]
     },
     "execution_count": 251,
     "metadata": {},
     "output_type": "execute_result"
    }
   ],
   "source": [
    "np.mean(residuals_train_xbg)\n",
    "np.std(residuals_train_xbg)"
   ]
  },
  {
   "cell_type": "code",
   "execution_count": 252,
   "metadata": {},
   "outputs": [],
   "source": [
    "train_data[\"xgb_residuals\"]=np.abs(residuals_train_xbg)"
   ]
  },
  {
   "cell_type": "code",
   "execution_count": null,
   "metadata": {},
   "outputs": [],
   "source": []
  },
  {
   "cell_type": "code",
   "execution_count": 253,
   "metadata": {},
   "outputs": [
    {
     "data": {
      "text/plain": [
       "(792831, 10)"
      ]
     },
     "execution_count": 253,
     "metadata": {},
     "output_type": "execute_result"
    }
   ],
   "source": [
    "train_data[train_data[\"xgb_residuals\"] < (2.5*np.std(residuals_train_xbg))].shape"
   ]
  },
  {
   "cell_type": "code",
   "execution_count": 254,
   "metadata": {},
   "outputs": [],
   "source": [
    "train_data_clean = train_data[train_data[\"xgb_residuals\"] < (2.5*np.std(residuals_train_xbg))]"
   ]
  },
  {
   "cell_type": "code",
   "execution_count": 255,
   "metadata": {},
   "outputs": [
    {
     "data": {
      "text/html": [
       "<div style=\"max-height:1000px;max-width:1500px;overflow:auto;\"><table frame=\"box\" rules=\"cols\">\n",
       "    <tr>\n",
       "        <th style=\"padding-left: 1em; padding-right: 1em; text-align: center\">jobId</th>\n",
       "        <th style=\"padding-left: 1em; padding-right: 1em; text-align: center\">companyId</th>\n",
       "        <th style=\"padding-left: 1em; padding-right: 1em; text-align: center\">jobType</th>\n",
       "        <th style=\"padding-left: 1em; padding-right: 1em; text-align: center\">degree</th>\n",
       "        <th style=\"padding-left: 1em; padding-right: 1em; text-align: center\">major</th>\n",
       "        <th style=\"padding-left: 1em; padding-right: 1em; text-align: center\">industry</th>\n",
       "        <th style=\"padding-left: 1em; padding-right: 1em; text-align: center\">yearsExperience</th>\n",
       "        <th style=\"padding-left: 1em; padding-right: 1em; text-align: center\">milesFromMetropolis</th>\n",
       "    </tr>\n",
       "    <tr>\n",
       "        <td style=\"padding-left: 1em; padding-right: 1em; text-align: center; vertical-align: top\">JOB1362684407687</td>\n",
       "        <td style=\"padding-left: 1em; padding-right: 1em; text-align: center; vertical-align: top\">COMP37</td>\n",
       "        <td style=\"padding-left: 1em; padding-right: 1em; text-align: center; vertical-align: top\">CFO</td>\n",
       "        <td style=\"padding-left: 1em; padding-right: 1em; text-align: center; vertical-align: top\">MASTERS</td>\n",
       "        <td style=\"padding-left: 1em; padding-right: 1em; text-align: center; vertical-align: top\">MATH</td>\n",
       "        <td style=\"padding-left: 1em; padding-right: 1em; text-align: center; vertical-align: top\">HEALTH</td>\n",
       "        <td style=\"padding-left: 1em; padding-right: 1em; text-align: center; vertical-align: top\">10</td>\n",
       "        <td style=\"padding-left: 1em; padding-right: 1em; text-align: center; vertical-align: top\">83</td>\n",
       "    </tr>\n",
       "    <tr>\n",
       "        <td style=\"padding-left: 1em; padding-right: 1em; text-align: center; vertical-align: top\">JOB1362684407690</td>\n",
       "        <td style=\"padding-left: 1em; padding-right: 1em; text-align: center; vertical-align: top\">COMP38</td>\n",
       "        <td style=\"padding-left: 1em; padding-right: 1em; text-align: center; vertical-align: top\">MANAGER</td>\n",
       "        <td style=\"padding-left: 1em; padding-right: 1em; text-align: center; vertical-align: top\">DOCTORAL</td>\n",
       "        <td style=\"padding-left: 1em; padding-right: 1em; text-align: center; vertical-align: top\">CHEMISTRY</td>\n",
       "        <td style=\"padding-left: 1em; padding-right: 1em; text-align: center; vertical-align: top\">AUTO</td>\n",
       "        <td style=\"padding-left: 1em; padding-right: 1em; text-align: center; vertical-align: top\">8</td>\n",
       "        <td style=\"padding-left: 1em; padding-right: 1em; text-align: center; vertical-align: top\">17</td>\n",
       "    </tr>\n",
       "    <tr>\n",
       "        <td style=\"padding-left: 1em; padding-right: 1em; text-align: center; vertical-align: top\">JOB1362684407693</td>\n",
       "        <td style=\"padding-left: 1em; padding-right: 1em; text-align: center; vertical-align: top\">COMP15</td>\n",
       "        <td style=\"padding-left: 1em; padding-right: 1em; text-align: center; vertical-align: top\">CFO</td>\n",
       "        <td style=\"padding-left: 1em; padding-right: 1em; text-align: center; vertical-align: top\">NONE</td>\n",
       "        <td style=\"padding-left: 1em; padding-right: 1em; text-align: center; vertical-align: top\">NONE</td>\n",
       "        <td style=\"padding-left: 1em; padding-right: 1em; text-align: center; vertical-align: top\">HEALTH</td>\n",
       "        <td style=\"padding-left: 1em; padding-right: 1em; text-align: center; vertical-align: top\">23</td>\n",
       "        <td style=\"padding-left: 1em; padding-right: 1em; text-align: center; vertical-align: top\">24</td>\n",
       "    </tr>\n",
       "    <tr>\n",
       "        <td style=\"padding-left: 1em; padding-right: 1em; text-align: center; vertical-align: top\">JOB1362684407694</td>\n",
       "        <td style=\"padding-left: 1em; padding-right: 1em; text-align: center; vertical-align: top\">COMP24</td>\n",
       "        <td style=\"padding-left: 1em; padding-right: 1em; text-align: center; vertical-align: top\">JUNIOR</td>\n",
       "        <td style=\"padding-left: 1em; padding-right: 1em; text-align: center; vertical-align: top\">BACHELORS</td>\n",
       "        <td style=\"padding-left: 1em; padding-right: 1em; text-align: center; vertical-align: top\">CHEMISTRY</td>\n",
       "        <td style=\"padding-left: 1em; padding-right: 1em; text-align: center; vertical-align: top\">EDUCATION</td>\n",
       "        <td style=\"padding-left: 1em; padding-right: 1em; text-align: center; vertical-align: top\">9</td>\n",
       "        <td style=\"padding-left: 1em; padding-right: 1em; text-align: center; vertical-align: top\">70</td>\n",
       "    </tr>\n",
       "    <tr>\n",
       "        <td style=\"padding-left: 1em; padding-right: 1em; text-align: center; vertical-align: top\">JOB1362684407695</td>\n",
       "        <td style=\"padding-left: 1em; padding-right: 1em; text-align: center; vertical-align: top\">COMP20</td>\n",
       "        <td style=\"padding-left: 1em; padding-right: 1em; text-align: center; vertical-align: top\">JANITOR</td>\n",
       "        <td style=\"padding-left: 1em; padding-right: 1em; text-align: center; vertical-align: top\">HIGH_SCHOOL</td>\n",
       "        <td style=\"padding-left: 1em; padding-right: 1em; text-align: center; vertical-align: top\">NONE</td>\n",
       "        <td style=\"padding-left: 1em; padding-right: 1em; text-align: center; vertical-align: top\">EDUCATION</td>\n",
       "        <td style=\"padding-left: 1em; padding-right: 1em; text-align: center; vertical-align: top\">1</td>\n",
       "        <td style=\"padding-left: 1em; padding-right: 1em; text-align: center; vertical-align: top\">54</td>\n",
       "    </tr>\n",
       "    <tr>\n",
       "        <td style=\"padding-left: 1em; padding-right: 1em; text-align: center; vertical-align: top\">JOB1362684407696</td>\n",
       "        <td style=\"padding-left: 1em; padding-right: 1em; text-align: center; vertical-align: top\">COMP41</td>\n",
       "        <td style=\"padding-left: 1em; padding-right: 1em; text-align: center; vertical-align: top\">VICE_PRESIDENT</td>\n",
       "        <td style=\"padding-left: 1em; padding-right: 1em; text-align: center; vertical-align: top\">BACHELORS</td>\n",
       "        <td style=\"padding-left: 1em; padding-right: 1em; text-align: center; vertical-align: top\">CHEMISTRY</td>\n",
       "        <td style=\"padding-left: 1em; padding-right: 1em; text-align: center; vertical-align: top\">AUTO</td>\n",
       "        <td style=\"padding-left: 1em; padding-right: 1em; text-align: center; vertical-align: top\">17</td>\n",
       "        <td style=\"padding-left: 1em; padding-right: 1em; text-align: center; vertical-align: top\">68</td>\n",
       "    </tr>\n",
       "    <tr>\n",
       "        <td style=\"padding-left: 1em; padding-right: 1em; text-align: center; vertical-align: top\">JOB1362684407697</td>\n",
       "        <td style=\"padding-left: 1em; padding-right: 1em; text-align: center; vertical-align: top\">COMP56</td>\n",
       "        <td style=\"padding-left: 1em; padding-right: 1em; text-align: center; vertical-align: top\">JANITOR</td>\n",
       "        <td style=\"padding-left: 1em; padding-right: 1em; text-align: center; vertical-align: top\">HIGH_SCHOOL</td>\n",
       "        <td style=\"padding-left: 1em; padding-right: 1em; text-align: center; vertical-align: top\">NONE</td>\n",
       "        <td style=\"padding-left: 1em; padding-right: 1em; text-align: center; vertical-align: top\">HEALTH</td>\n",
       "        <td style=\"padding-left: 1em; padding-right: 1em; text-align: center; vertical-align: top\">24</td>\n",
       "        <td style=\"padding-left: 1em; padding-right: 1em; text-align: center; vertical-align: top\">30</td>\n",
       "    </tr>\n",
       "    <tr>\n",
       "        <td style=\"padding-left: 1em; padding-right: 1em; text-align: center; vertical-align: top\">JOB1362684407698</td>\n",
       "        <td style=\"padding-left: 1em; padding-right: 1em; text-align: center; vertical-align: top\">COMP7</td>\n",
       "        <td style=\"padding-left: 1em; padding-right: 1em; text-align: center; vertical-align: top\">CEO</td>\n",
       "        <td style=\"padding-left: 1em; padding-right: 1em; text-align: center; vertical-align: top\">MASTERS</td>\n",
       "        <td style=\"padding-left: 1em; padding-right: 1em; text-align: center; vertical-align: top\">PHYSICS</td>\n",
       "        <td style=\"padding-left: 1em; padding-right: 1em; text-align: center; vertical-align: top\">EDUCATION</td>\n",
       "        <td style=\"padding-left: 1em; padding-right: 1em; text-align: center; vertical-align: top\">7</td>\n",
       "        <td style=\"padding-left: 1em; padding-right: 1em; text-align: center; vertical-align: top\">79</td>\n",
       "    </tr>\n",
       "    <tr>\n",
       "        <td style=\"padding-left: 1em; padding-right: 1em; text-align: center; vertical-align: top\">JOB1362684407699</td>\n",
       "        <td style=\"padding-left: 1em; padding-right: 1em; text-align: center; vertical-align: top\">COMP4</td>\n",
       "        <td style=\"padding-left: 1em; padding-right: 1em; text-align: center; vertical-align: top\">JUNIOR</td>\n",
       "        <td style=\"padding-left: 1em; padding-right: 1em; text-align: center; vertical-align: top\">NONE</td>\n",
       "        <td style=\"padding-left: 1em; padding-right: 1em; text-align: center; vertical-align: top\">NONE</td>\n",
       "        <td style=\"padding-left: 1em; padding-right: 1em; text-align: center; vertical-align: top\">OIL</td>\n",
       "        <td style=\"padding-left: 1em; padding-right: 1em; text-align: center; vertical-align: top\">8</td>\n",
       "        <td style=\"padding-left: 1em; padding-right: 1em; text-align: center; vertical-align: top\">29</td>\n",
       "    </tr>\n",
       "    <tr>\n",
       "        <td style=\"padding-left: 1em; padding-right: 1em; text-align: center; vertical-align: top\">JOB1362684407700</td>\n",
       "        <td style=\"padding-left: 1em; padding-right: 1em; text-align: center; vertical-align: top\">COMP54</td>\n",
       "        <td style=\"padding-left: 1em; padding-right: 1em; text-align: center; vertical-align: top\">JUNIOR</td>\n",
       "        <td style=\"padding-left: 1em; padding-right: 1em; text-align: center; vertical-align: top\">MASTERS</td>\n",
       "        <td style=\"padding-left: 1em; padding-right: 1em; text-align: center; vertical-align: top\">MATH</td>\n",
       "        <td style=\"padding-left: 1em; padding-right: 1em; text-align: center; vertical-align: top\">FINANCE</td>\n",
       "        <td style=\"padding-left: 1em; padding-right: 1em; text-align: center; vertical-align: top\">21</td>\n",
       "        <td style=\"padding-left: 1em; padding-right: 1em; text-align: center; vertical-align: top\">26</td>\n",
       "    </tr>\n",
       "</table>\n",
       "<table frame=\"box\" rules=\"cols\">\n",
       "    <tr>\n",
       "        <th style=\"padding-left: 1em; padding-right: 1em; text-align: center\">salary</th>\n",
       "    </tr>\n",
       "    <tr>\n",
       "        <td style=\"padding-left: 1em; padding-right: 1em; text-align: center; vertical-align: top\">130</td>\n",
       "    </tr>\n",
       "    <tr>\n",
       "        <td style=\"padding-left: 1em; padding-right: 1em; text-align: center; vertical-align: top\">142</td>\n",
       "    </tr>\n",
       "    <tr>\n",
       "        <td style=\"padding-left: 1em; padding-right: 1em; text-align: center; vertical-align: top\">178</td>\n",
       "    </tr>\n",
       "    <tr>\n",
       "        <td style=\"padding-left: 1em; padding-right: 1em; text-align: center; vertical-align: top\">73</td>\n",
       "    </tr>\n",
       "    <tr>\n",
       "        <td style=\"padding-left: 1em; padding-right: 1em; text-align: center; vertical-align: top\">31</td>\n",
       "    </tr>\n",
       "    <tr>\n",
       "        <td style=\"padding-left: 1em; padding-right: 1em; text-align: center; vertical-align: top\">104</td>\n",
       "    </tr>\n",
       "    <tr>\n",
       "        <td style=\"padding-left: 1em; padding-right: 1em; text-align: center; vertical-align: top\">102</td>\n",
       "    </tr>\n",
       "    <tr>\n",
       "        <td style=\"padding-left: 1em; padding-right: 1em; text-align: center; vertical-align: top\">144</td>\n",
       "    </tr>\n",
       "    <tr>\n",
       "        <td style=\"padding-left: 1em; padding-right: 1em; text-align: center; vertical-align: top\">79</td>\n",
       "    </tr>\n",
       "    <tr>\n",
       "        <td style=\"padding-left: 1em; padding-right: 1em; text-align: center; vertical-align: top\">193</td>\n",
       "    </tr>\n",
       "</table>\n",
       "[? rows x 9 columns]<br/>Note: Only the head of the SFrame is printed. This SFrame is lazily evaluated.<br/>You can use sf.materialize() to force materialization.\n",
       "</div>"
      ],
      "text/plain": [
       "Columns:\n",
       "\tjobId\tstr\n",
       "\tcompanyId\tstr\n",
       "\tjobType\tstr\n",
       "\tdegree\tstr\n",
       "\tmajor\tstr\n",
       "\tindustry\tstr\n",
       "\tyearsExperience\tint\n",
       "\tmilesFromMetropolis\tint\n",
       "\tsalary\tint\n",
       "\n",
       "Rows: Unknown\n",
       "\n",
       "Data:\n",
       "+------------------+-----------+----------------+-------------+-----------+\n",
       "|      jobId       | companyId |    jobType     |    degree   |   major   |\n",
       "+------------------+-----------+----------------+-------------+-----------+\n",
       "| JOB1362684407687 |   COMP37  |      CFO       |   MASTERS   |    MATH   |\n",
       "| JOB1362684407690 |   COMP38  |    MANAGER     |   DOCTORAL  | CHEMISTRY |\n",
       "| JOB1362684407693 |   COMP15  |      CFO       |     NONE    |    NONE   |\n",
       "| JOB1362684407694 |   COMP24  |     JUNIOR     |  BACHELORS  | CHEMISTRY |\n",
       "| JOB1362684407695 |   COMP20  |    JANITOR     | HIGH_SCHOOL |    NONE   |\n",
       "| JOB1362684407696 |   COMP41  | VICE_PRESIDENT |  BACHELORS  | CHEMISTRY |\n",
       "| JOB1362684407697 |   COMP56  |    JANITOR     | HIGH_SCHOOL |    NONE   |\n",
       "| JOB1362684407698 |   COMP7   |      CEO       |   MASTERS   |  PHYSICS  |\n",
       "| JOB1362684407699 |   COMP4   |     JUNIOR     |     NONE    |    NONE   |\n",
       "| JOB1362684407700 |   COMP54  |     JUNIOR     |   MASTERS   |    MATH   |\n",
       "+------------------+-----------+----------------+-------------+-----------+\n",
       "+-----------+-----------------+---------------------+--------+\n",
       "|  industry | yearsExperience | milesFromMetropolis | salary |\n",
       "+-----------+-----------------+---------------------+--------+\n",
       "|   HEALTH  |        10       |          83         |  130   |\n",
       "|    AUTO   |        8        |          17         |  142   |\n",
       "|   HEALTH  |        23       |          24         |  178   |\n",
       "| EDUCATION |        9        |          70         |   73   |\n",
       "| EDUCATION |        1        |          54         |   31   |\n",
       "|    AUTO   |        17       |          68         |  104   |\n",
       "|   HEALTH  |        24       |          30         |  102   |\n",
       "| EDUCATION |        7        |          79         |  144   |\n",
       "|    OIL    |        8        |          29         |   79   |\n",
       "|  FINANCE  |        21       |          26         |  193   |\n",
       "+-----------+-----------------+---------------------+--------+\n",
       "[? rows x 9 columns]\n",
       "Note: Only the head of the SFrame is printed. This SFrame is lazily evaluated.\n",
       "You can use sf.materialize() to force materialization."
      ]
     },
     "execution_count": 255,
     "metadata": {},
     "output_type": "execute_result"
    }
   ],
   "source": [
    "train_data_clean.remove_column(\"xgb_residuals\")"
   ]
  },
  {
   "cell_type": "code",
   "execution_count": 256,
   "metadata": {},
   "outputs": [],
   "source": [
    "train_data_clean_df = pd.get_dummies( train_data_clean.to_dataframe(), columns =[\"industry\",\"jobType\",\"degree\",\"major\",\"companyId\"] )"
   ]
  },
  {
   "cell_type": "code",
   "execution_count": 257,
   "metadata": {},
   "outputs": [
    {
     "data": {
      "text/html": [
       "<div>\n",
       "<style scoped>\n",
       "    .dataframe tbody tr th:only-of-type {\n",
       "        vertical-align: middle;\n",
       "    }\n",
       "\n",
       "    .dataframe tbody tr th {\n",
       "        vertical-align: top;\n",
       "    }\n",
       "\n",
       "    .dataframe thead th {\n",
       "        text-align: right;\n",
       "    }\n",
       "</style>\n",
       "<table border=\"1\" class=\"dataframe\">\n",
       "  <thead>\n",
       "    <tr style=\"text-align: right;\">\n",
       "      <th></th>\n",
       "      <th>jobId</th>\n",
       "      <th>yearsExperience</th>\n",
       "      <th>milesFromMetropolis</th>\n",
       "      <th>salary</th>\n",
       "      <th>industry_AUTO</th>\n",
       "      <th>industry_EDUCATION</th>\n",
       "      <th>industry_FINANCE</th>\n",
       "      <th>industry_HEALTH</th>\n",
       "      <th>industry_OIL</th>\n",
       "      <th>industry_SERVICE</th>\n",
       "      <th>...</th>\n",
       "      <th>companyId_COMP57</th>\n",
       "      <th>companyId_COMP58</th>\n",
       "      <th>companyId_COMP59</th>\n",
       "      <th>companyId_COMP6</th>\n",
       "      <th>companyId_COMP60</th>\n",
       "      <th>companyId_COMP61</th>\n",
       "      <th>companyId_COMP62</th>\n",
       "      <th>companyId_COMP7</th>\n",
       "      <th>companyId_COMP8</th>\n",
       "      <th>companyId_COMP9</th>\n",
       "    </tr>\n",
       "  </thead>\n",
       "  <tbody>\n",
       "    <tr>\n",
       "      <th>0</th>\n",
       "      <td>JOB1362684407687</td>\n",
       "      <td>10</td>\n",
       "      <td>83</td>\n",
       "      <td>130</td>\n",
       "      <td>0</td>\n",
       "      <td>0</td>\n",
       "      <td>0</td>\n",
       "      <td>1</td>\n",
       "      <td>0</td>\n",
       "      <td>0</td>\n",
       "      <td>...</td>\n",
       "      <td>0</td>\n",
       "      <td>0</td>\n",
       "      <td>0</td>\n",
       "      <td>0</td>\n",
       "      <td>0</td>\n",
       "      <td>0</td>\n",
       "      <td>0</td>\n",
       "      <td>0</td>\n",
       "      <td>0</td>\n",
       "      <td>0</td>\n",
       "    </tr>\n",
       "    <tr>\n",
       "      <th>1</th>\n",
       "      <td>JOB1362684407690</td>\n",
       "      <td>8</td>\n",
       "      <td>17</td>\n",
       "      <td>142</td>\n",
       "      <td>1</td>\n",
       "      <td>0</td>\n",
       "      <td>0</td>\n",
       "      <td>0</td>\n",
       "      <td>0</td>\n",
       "      <td>0</td>\n",
       "      <td>...</td>\n",
       "      <td>0</td>\n",
       "      <td>0</td>\n",
       "      <td>0</td>\n",
       "      <td>0</td>\n",
       "      <td>0</td>\n",
       "      <td>0</td>\n",
       "      <td>0</td>\n",
       "      <td>0</td>\n",
       "      <td>0</td>\n",
       "      <td>0</td>\n",
       "    </tr>\n",
       "    <tr>\n",
       "      <th>2</th>\n",
       "      <td>JOB1362684407693</td>\n",
       "      <td>23</td>\n",
       "      <td>24</td>\n",
       "      <td>178</td>\n",
       "      <td>0</td>\n",
       "      <td>0</td>\n",
       "      <td>0</td>\n",
       "      <td>1</td>\n",
       "      <td>0</td>\n",
       "      <td>0</td>\n",
       "      <td>...</td>\n",
       "      <td>0</td>\n",
       "      <td>0</td>\n",
       "      <td>0</td>\n",
       "      <td>0</td>\n",
       "      <td>0</td>\n",
       "      <td>0</td>\n",
       "      <td>0</td>\n",
       "      <td>0</td>\n",
       "      <td>0</td>\n",
       "      <td>0</td>\n",
       "    </tr>\n",
       "    <tr>\n",
       "      <th>3</th>\n",
       "      <td>JOB1362684407694</td>\n",
       "      <td>9</td>\n",
       "      <td>70</td>\n",
       "      <td>73</td>\n",
       "      <td>0</td>\n",
       "      <td>1</td>\n",
       "      <td>0</td>\n",
       "      <td>0</td>\n",
       "      <td>0</td>\n",
       "      <td>0</td>\n",
       "      <td>...</td>\n",
       "      <td>0</td>\n",
       "      <td>0</td>\n",
       "      <td>0</td>\n",
       "      <td>0</td>\n",
       "      <td>0</td>\n",
       "      <td>0</td>\n",
       "      <td>0</td>\n",
       "      <td>0</td>\n",
       "      <td>0</td>\n",
       "      <td>0</td>\n",
       "    </tr>\n",
       "    <tr>\n",
       "      <th>4</th>\n",
       "      <td>JOB1362684407695</td>\n",
       "      <td>1</td>\n",
       "      <td>54</td>\n",
       "      <td>31</td>\n",
       "      <td>0</td>\n",
       "      <td>1</td>\n",
       "      <td>0</td>\n",
       "      <td>0</td>\n",
       "      <td>0</td>\n",
       "      <td>0</td>\n",
       "      <td>...</td>\n",
       "      <td>0</td>\n",
       "      <td>0</td>\n",
       "      <td>0</td>\n",
       "      <td>0</td>\n",
       "      <td>0</td>\n",
       "      <td>0</td>\n",
       "      <td>0</td>\n",
       "      <td>0</td>\n",
       "      <td>0</td>\n",
       "      <td>0</td>\n",
       "    </tr>\n",
       "  </tbody>\n",
       "</table>\n",
       "<p>5 rows × 96 columns</p>\n",
       "</div>"
      ],
      "text/plain": [
       "              jobId  yearsExperience  milesFromMetropolis  salary  \\\n",
       "0  JOB1362684407687               10                   83     130   \n",
       "1  JOB1362684407690                8                   17     142   \n",
       "2  JOB1362684407693               23                   24     178   \n",
       "3  JOB1362684407694                9                   70      73   \n",
       "4  JOB1362684407695                1                   54      31   \n",
       "\n",
       "   industry_AUTO  industry_EDUCATION  industry_FINANCE  industry_HEALTH  \\\n",
       "0              0                   0                 0                1   \n",
       "1              1                   0                 0                0   \n",
       "2              0                   0                 0                1   \n",
       "3              0                   1                 0                0   \n",
       "4              0                   1                 0                0   \n",
       "\n",
       "   industry_OIL  industry_SERVICE       ...         companyId_COMP57  \\\n",
       "0             0                 0       ...                        0   \n",
       "1             0                 0       ...                        0   \n",
       "2             0                 0       ...                        0   \n",
       "3             0                 0       ...                        0   \n",
       "4             0                 0       ...                        0   \n",
       "\n",
       "   companyId_COMP58  companyId_COMP59  companyId_COMP6  companyId_COMP60  \\\n",
       "0                 0                 0                0                 0   \n",
       "1                 0                 0                0                 0   \n",
       "2                 0                 0                0                 0   \n",
       "3                 0                 0                0                 0   \n",
       "4                 0                 0                0                 0   \n",
       "\n",
       "   companyId_COMP61  companyId_COMP62  companyId_COMP7  companyId_COMP8  \\\n",
       "0                 0                 0                0                0   \n",
       "1                 0                 0                0                0   \n",
       "2                 0                 0                0                0   \n",
       "3                 0                 0                0                0   \n",
       "4                 0                 0                0                0   \n",
       "\n",
       "   companyId_COMP9  \n",
       "0                0  \n",
       "1                0  \n",
       "2                0  \n",
       "3                0  \n",
       "4                0  \n",
       "\n",
       "[5 rows x 96 columns]"
      ]
     },
     "execution_count": 257,
     "metadata": {},
     "output_type": "execute_result"
    }
   ],
   "source": [
    "train_data_clean_df.head()"
   ]
  },
  {
   "cell_type": "code",
   "execution_count": 258,
   "metadata": {},
   "outputs": [
    {
     "data": {
      "text/plain": [
       "-0.019865644191396036"
      ]
     },
     "execution_count": 258,
     "metadata": {},
     "output_type": "execute_result"
    },
    {
     "data": {
      "text/plain": [
       "19.05649416633039"
      ]
     },
     "execution_count": 258,
     "metadata": {},
     "output_type": "execute_result"
    }
   ],
   "source": [
    "residuals_bt.mean()\n",
    "residuals_bt.std()"
   ]
  },
  {
   "cell_type": "code",
   "execution_count": 259,
   "metadata": {},
   "outputs": [],
   "source": [
    "train_clean_y = train_data_clean_df[\"salary\"].as_matrix()\n",
    "train_clean_X = train_data_clean_df.drop(['jobId','salary'], axis=1).as_matrix()"
   ]
  },
  {
   "cell_type": "code",
   "execution_count": 260,
   "metadata": {},
   "outputs": [
    {
     "data": {
      "text/plain": [
       "XGBRegressor(base_score=0.5, booster='gbtree', colsample_bylevel=1,\n",
       "       colsample_bytree=1, gamma=0, learning_rate=0.1, max_delta_step=0,\n",
       "       max_depth=5, min_child_weight=1, missing=None, n_estimators=100,\n",
       "       n_jobs=1, nthread=None, objective='reg:linear', random_state=0,\n",
       "       reg_alpha=0, reg_lambda=1, scale_pos_weight=1, seed=None,\n",
       "       silent=True, subsample=1)"
      ]
     },
     "execution_count": 260,
     "metadata": {},
     "output_type": "execute_result"
    }
   ],
   "source": [
    "my_clean_model = XGBRegressor(max_depth=5)\n",
    "my_clean_model.fit(train_clean_X, train_clean_y,verbose=False)"
   ]
  },
  {
   "cell_type": "code",
   "execution_count": 247,
   "metadata": {},
   "outputs": [
    {
     "name": "stdout",
     "output_type": "stream",
     "text": [
      "Test results: \n",
      "Mean Absolute Error : 15.4132413213\n",
      "Root Mean Squared Error : 19.049596095\n",
      "Max error: 182.079467773\n",
      "Training results: \n",
      "Mean Absolute Error : 14.1704110443\n",
      "Root Mean Squared Error : 17.0713847596\n",
      "Max error: 41.9108352661\n"
     ]
    }
   ],
   "source": [
    "print(\"Test results: \")\n",
    "test_clean_residuals = print_and_return_residuals(test_X,test_y,my_clean_model)\n",
    "print(\"Training results: \")\n",
    "train_clean_residuals = print_and_return_residuals(train_clean_X,train_clean_y,my_clean_model)\n"
   ]
  },
  {
   "cell_type": "code",
   "execution_count": 230,
   "metadata": {},
   "outputs": [
    {
     "data": {
      "text/plain": [
       "[<matplotlib.lines.Line2D at 0x1b50b36b50>]"
      ]
     },
     "execution_count": 230,
     "metadata": {},
     "output_type": "execute_result"
    },
    {
     "data": {
      "text/plain": [
       "Text(0.5,1,u'Train residuals Clean Data')"
      ]
     },
     "execution_count": 230,
     "metadata": {},
     "output_type": "execute_result"
    },
    {
     "data": {
      "text/plain": [
       "Text(0,0.5,u'Count')"
      ]
     },
     "execution_count": 230,
     "metadata": {},
     "output_type": "execute_result"
    },
    {
     "data": {
      "image/png": "[encoded data removed]",
      "text/plain": [
       "<matplotlib.figure.Figure at 0x1a119ad850>"
      ]
     },
     "metadata": {},
     "output_type": "display_data"
    }
   ],
   "source": [
    "n, bins, patches = plt.hist(train_clean_residuals,bins=50)\n",
    "plt.plot(bins)\n",
    "plt.title(\"Train residuals Clean Data\")\n",
    "plt.ylabel('Count')\n",
    "plt.show()"
   ]
  },
  {
   "cell_type": "code",
   "execution_count": 231,
   "metadata": {},
   "outputs": [],
   "source": [
    "test_f_sf = gl.SFrame.read_csv(\"test_features_2013-03-07.csv\", verbose=False)\n",
    "test_f_df = pd.get_dummies( test_f_sf.to_dataframe(), columns =[\"industry\",\"jobType\",\"degree\",\"major\",\"companyId\"] )"
   ]
  },
  {
   "cell_type": "code",
   "execution_count": 232,
   "metadata": {},
   "outputs": [],
   "source": [
    "test_f_X = test_f_df.drop(['jobId'], axis=1).as_matrix()"
   ]
  },
  {
   "cell_type": "code",
   "execution_count": 233,
   "metadata": {},
   "outputs": [],
   "source": [
    "predictionsf_xgb = my_clean_model.predict(test_f_X)"
   ]
  },
  {
   "cell_type": "code",
   "execution_count": 234,
   "metadata": {},
   "outputs": [],
   "source": [
    "test_f_sf[\"salary\"]=predictionsf_xgb\n",
    "final_results = test_f_sf[[\"jobId\",\"salary\"]]\n",
    "final_results.save(\"test_salaries.csv\",format='csv')"
   ]
  },
  {
   "cell_type": "code",
   "execution_count": null,
   "metadata": {},
   "outputs": [],
   "source": []
  },
  {
   "cell_type": "code",
   "execution_count": null,
   "metadata": {},
   "outputs": [],
   "source": []
  },
  {
   "cell_type": "code",
   "execution_count": null,
   "metadata": {},
   "outputs": [],
   "source": []
  },
  {
   "cell_type": "code",
   "execution_count": null,
   "metadata": {},
   "outputs": [],
   "source": []
  },
  {
   "cell_type": "code",
   "execution_count": null,
   "metadata": {},
   "outputs": [],
   "source": []
  },
  {
   "cell_type": "code",
   "execution_count": null,
   "metadata": {},
   "outputs": [],
   "source": []
  },
  {
   "cell_type": "code",
   "execution_count": null,
   "metadata": {},
   "outputs": [],
   "source": []
  },
  {
   "cell_type": "code",
   "execution_count": null,
   "metadata": {},
   "outputs": [],
   "source": []
  },
  {
   "cell_type": "code",
   "execution_count": null,
   "metadata": {},
   "outputs": [],
   "source": []
  },
  {
   "cell_type": "code",
   "execution_count": null,
   "metadata": {},
   "outputs": [],
   "source": []
  },
  {
   "cell_type": "code",
   "execution_count": null,
   "metadata": {},
   "outputs": [],
   "source": []
  },
  {
   "cell_type": "code",
   "execution_count": null,
   "metadata": {},
   "outputs": [],
   "source": []
  },
  {
   "cell_type": "code",
   "execution_count": null,
   "metadata": {},
   "outputs": [],
   "source": []
  },
  {
   "cell_type": "markdown",
   "metadata": {},
   "source": [
    "## Other exploratory work"
   ]
  },
  {
   "cell_type": "markdown",
   "metadata": {},
   "source": [
    "## Could we build an ensemble "
   ]
  },
  {
   "cell_type": "code",
   "execution_count": 94,
   "metadata": {},
   "outputs": [
    {
     "data": {
      "text/plain": [
       "(199933, 9)"
      ]
     },
     "execution_count": 94,
     "metadata": {},
     "output_type": "execute_result"
    },
    {
     "data": {
      "text/plain": [
       "(199933, 96)"
      ]
     },
     "execution_count": 94,
     "metadata": {},
     "output_type": "execute_result"
    },
    {
     "data": {
      "text/plain": [
       "(199933, 94)"
      ]
     },
     "execution_count": 94,
     "metadata": {},
     "output_type": "execute_result"
    }
   ],
   "source": [
    "test_data.shape\n",
    "test_df.shape\n",
    "test_X.shape\n",
    "#train_X.shape"
   ]
  },
  {
   "cell_type": "code",
   "execution_count": 123,
   "metadata": {},
   "outputs": [],
   "source": [
    "predictions_lr = model_lr.predict(train_data)\n",
    "predictions_bt = model_bt.predict(train_data)\n",
    "predictions_rf = model_rf.predict(train_data)\n",
    "predictions_xgb = my_model.predict(train_X)\n",
    "salary_train = train_data[\"salary\"]"
   ]
  },
  {
   "cell_type": "code",
   "execution_count": 124,
   "metadata": {},
   "outputs": [],
   "source": [
    "train2_data = gl.SFrame({'predictions_lr':predictions_lr,\n",
    "             'predictions_bt':predictions_bt,\n",
    "             'predictions_rf':predictions_rf,\n",
    "             'predictions_xgb':predictions_xgb,\n",
    "             'salary':salary_train})"
   ]
  },
  {
   "cell_type": "code",
   "execution_count": 126,
   "metadata": {},
   "outputs": [],
   "source": [
    "predictions_lr = model_lr.predict(test_data)\n",
    "predictions_bt = model_bt.predict(test_data)\n",
    "predictions_rf = model_rf.predict(test_data)\n",
    "predictions_xgb = my_model.predict(test_X)\n",
    "salary_test = test_data[\"salary\"]"
   ]
  },
  {
   "cell_type": "code",
   "execution_count": 127,
   "metadata": {},
   "outputs": [],
   "source": [
    "test2_data = gl.SFrame({'predictions_lr':predictions_lr,\n",
    "             'predictions_bt':predictions_bt,\n",
    "             'predictions_rf':predictions_rf,\n",
    "             'predictions_xgb':predictions_xgb,\n",
    "             'salary':salary_test})"
   ]
  },
  {
   "cell_type": "code",
   "execution_count": null,
   "metadata": {},
   "outputs": [],
   "source": []
  },
  {
   "cell_type": "code",
   "execution_count": 128,
   "metadata": {},
   "outputs": [
    {
     "data": {
      "text/plain": [
       "(199933, 5)"
      ]
     },
     "execution_count": 128,
     "metadata": {},
     "output_type": "execute_result"
    },
    {
     "data": {
      "text/plain": [
       "(800067, 5)"
      ]
     },
     "execution_count": 128,
     "metadata": {},
     "output_type": "execute_result"
    }
   ],
   "source": [
    "test2_data.shape\n",
    "train2_data.shape"
   ]
  },
  {
   "cell_type": "code",
   "execution_count": 111,
   "metadata": {},
   "outputs": [
    {
     "name": "stdout",
     "output_type": "stream",
     "text": [
      "+-----------------+----------------+----------------+----------------+-------------+\n",
      "| predictions_xgb | predictions_bt | predictions_lr | predictions_rf | salary_test |\n",
      "+-----------------+----------------+----------------+----------------+-------------+\n",
      "|  128.368911743  | 133.543762207  | 128.045945307  | 126.634284973  |     130     |\n",
      "|   124.85874939  | 121.404953003  | 125.376280014  | 118.476020813  |     142     |\n",
      "|  157.780914307  | 161.369873047  | 153.327950444  | 144.897979736  |     178     |\n",
      "|  67.4269104004  | 68.6509857178  | 66.3859755265  | 80.0061721802  |      73     |\n",
      "|  31.7900905609  | 30.0453262329  | 32.1432489256  | 44.9831390381  |      31     |\n",
      "|  120.503395081  | 120.380378723  | 123.142997856  | 135.536651611  |     104     |\n",
      "|   106.2395401   | 106.625579834  | 104.159144275  | 98.0351257324  |     102     |\n",
      "|  115.299079895  | 117.920906067  | 114.563668412  | 123.743011475  |     144     |\n",
      "|  92.8411407471  | 91.8725662231  | 96.6978797517  | 87.5664520264  |      79     |\n",
      "|  153.103042603  | 148.989639282  | 148.063308186  | 134.762207031  |     193     |\n",
      "|   147.74407959  | 144.673095703  | 147.904407615  | 153.397659302  |     172     |\n",
      "|  64.5496520996  | 63.7254905701  | 53.0603300271  |  88.057182312  |      47     |\n",
      "|  144.451828003  |  138.20451355  | 140.590391567  | 157.248046875  |     126     |\n",
      "|  147.585754395  | 146.176544189  | 150.912508153  | 144.557617188  |     122     |\n",
      "|  113.038726807  | 115.162582397  | 110.904473759  | 123.743011475  |      95     |\n",
      "|  71.8436050415  | 74.6165771484  | 73.9585580011  | 92.6154632568  |      68     |\n",
      "|   92.652923584  | 90.7431259155  | 96.0773744783  | 111.790252686  |     105     |\n",
      "|  90.4206466675  | 91.4834594727  | 92.0281788062  | 94.6839370728  |      76     |\n",
      "|   116.93106842  |  124.17653656  | 116.228827584  | 126.398872375  |     131     |\n",
      "|  147.018249512  | 145.798339844  | 153.734730129  | 131.114120483  |     130     |\n",
      "|  114.147468567  | 116.531967163  | 114.071763899  | 108.270271301  |     101     |\n",
      "|   86.300201416  | 84.3905715942  | 101.130437506  |   100.893013   |      82     |\n",
      "|  150.256164551  | 147.704772949  | 139.373577683  | 136.318908691  |     159     |\n",
      "|   94.674446106  |  93.27003479   | 94.3305006677  |  108.72820282  |     100     |\n",
      "|  140.848388672  | 147.820800781  | 140.714471834  | 131.974990845  |     164     |\n",
      "|  108.195915222  |  108.66545105  | 109.784778793  | 110.425056458  |     115     |\n",
      "|  190.375518799  | 188.536956787  | 176.089157093  | 155.015258789  |     206     |\n",
      "|  169.000564575  | 172.795318604  | 173.058515203  | 158.234085083  |     183     |\n",
      "|  133.746185303  | 138.428726196  | 139.102628584  | 110.706970215  |     114     |\n",
      "|  109.538970947  | 110.646507263  | 112.214447796  | 120.284187317  |     104     |\n",
      "|  112.583702087  | 114.438430786  | 115.467961883  | 106.719024658  |     141     |\n",
      "|  132.769607544  | 129.573791504  | 139.126165232  | 146.489151001  |     119     |\n",
      "|  104.729042053  | 102.530281067  | 101.625468348  | 114.231040955  |      91     |\n",
      "|  130.946975708  | 125.678543091  | 130.567832817  | 119.378440857  |     106     |\n",
      "|  114.254249573  | 115.001045227  | 111.791936396  | 116.978012085  |     119     |\n",
      "|  112.539825439  | 112.416770935  | 107.194597827  | 124.257919312  |     112     |\n",
      "|  141.908493042  | 147.095779419  | 139.291810558  | 136.310745239  |     116     |\n",
      "|  161.284820557  | 164.354537964  | 165.705300639  | 141.520385742  |     173     |\n",
      "|  89.1990203857  |  92.009979248  | 88.5985394426  | 94.5141983032  |      70     |\n",
      "|  112.623672485  | 111.621650696  | 122.615683258  | 126.049468994  |     105     |\n",
      "|  165.932983398  |  168.11328125  | 162.883102824  | 131.272415161  |     193     |\n",
      "|  74.5961608887  | 73.6617126465  | 78.5814810127  | 74.1814193726  |      91     |\n",
      "|  82.2997131348  | 81.9740753174  | 86.4882319909  | 93.7039031982  |      96     |\n",
      "|  127.450317383  |  129.51763916  | 125.349509423  | 130.278106689  |     118     |\n",
      "|  141.787628174  | 137.429244995  |  139.05615473  | 150.659942627  |     140     |\n",
      "|  140.700698853  | 142.493621826  | 145.220299051  |  124.24017334  |     161     |\n",
      "|  129.954681396  | 123.658706665  | 129.494603405  | 127.201873779  |     106     |\n",
      "|  69.6678543091  | 68.1461257935  | 69.6837406972  | 88.7865219116  |      55     |\n",
      "|  175.755432129  | 179.891708374  | 173.058309541  | 147.157409668  |     217     |\n",
      "|  76.2972259521  | 77.6977386475  | 73.7753817971  | 76.0632095337  |      62     |\n",
      "|  72.1896133423  | 75.0381393433  | 72.8886657964  | 75.5662078857  |      86     |\n",
      "|  80.3927993774  | 77.1475601196  |  78.467154215  | 104.631072998  |      80     |\n",
      "|  113.337387085  | 112.827674866  | 123.176268995  | 113.520652771  |      96     |\n",
      "|  128.160980225  | 128.030899048  | 127.067547384  | 119.559951782  |     122     |\n",
      "|  164.405410767  | 166.465591431  |  169.30676659  | 132.011749268  |     168     |\n",
      "|  122.327903748  | 125.444320679  | 120.870442684  | 120.643249512  |     133     |\n",
      "|  108.777809143  | 107.983276367  | 101.198020997  | 105.128494263  |     118     |\n",
      "|  108.564498901  | 108.269943237  | 106.246715771  | 107.921791077  |     129     |\n",
      "|  132.266357422  | 133.807037354  |  132.34893664  | 127.220527649  |     135     |\n",
      "|  116.307167053  | 116.678840637  | 119.730414115  |  122.14289856  |      94     |\n",
      "|  139.441375732  |  131.75718689  | 141.531915476  | 124.497116089  |     169     |\n",
      "|  133.705963135  | 131.083862305  | 137.589606989  |  121.96824646  |     110     |\n",
      "|  161.298400879  | 159.894058228  | 163.544098501  | 138.997344971  |     179     |\n",
      "|  113.884155273  | 111.773445129  | 118.059548146  | 117.634155273  |     106     |\n",
      "|  59.2881622314  |  63.445514679  | 59.7903394894  | 71.3885269165  |      70     |\n",
      "|  163.696426392  | 164.817169189  | 153.070869331  | 133.363922119  |     176     |\n",
      "|   94.433921814  | 90.6591949463  | 95.7584593776  | 96.7113418579  |     111     |\n",
      "|   119.32699585  | 117.633911133  | 115.851111606  |  108.96395874  |      82     |\n",
      "|  78.2788238525  | 76.3285751343  | 67.8214407669  | 112.990097046  |      84     |\n",
      "|  103.559936523  | 105.404930115  | 100.775875419  | 114.091293335  |      90     |\n",
      "|  102.460006714  | 98.3392868042  | 104.682852475  | 119.355888367  |     107     |\n",
      "|  124.678878784  | 128.083908081  | 127.630475914  | 113.940055847  |     133     |\n",
      "|  79.2583007812  | 75.6337814331  | 78.3077373597  | 95.0376739502  |      96     |\n",
      "|  105.903556824  | 104.865081787  | 111.248518703  | 103.963668823  |     125     |\n",
      "|   107.32648468  | 111.471855164  | 111.758704717  |  92.958404541  |     106     |\n",
      "|   134.56552124  | 133.888198853  | 137.492188753  | 124.210838318  |     159     |\n",
      "|  144.412475586  | 142.993087769  | 145.935281828  | 114.655517578  |     144     |\n",
      "|  188.360488892  | 188.838058472  | 179.635506677  | 140.293869019  |     205     |\n",
      "|  90.5934677124  | 89.4925689697  | 93.4603011213  | 93.2777404785  |      72     |\n",
      "|  131.460067749  | 125.614509583  | 138.405475542  | 134.367294312  |     110     |\n",
      "|  94.1967926025  | 91.2471008301  | 93.2793096202  | 119.269569397  |      99     |\n",
      "|  140.754989624  | 141.944824219  | 145.391973524  | 154.305389404  |     180     |\n",
      "|  120.071815491  | 116.598236084  | 110.347832812  | 130.513168335  |     105     |\n",
      "|  104.651344299  | 104.444999695  | 100.724625093  | 119.526939392  |     100     |\n",
      "|  122.018920898  |  120.36756134  |  129.87437962  | 127.157806396  |     117     |\n",
      "|  159.853881836  | 164.131225586  |  154.74883418  | 153.933441162  |     207     |\n",
      "|  143.979736328  | 144.328796387  | 150.099118358  | 131.368255615  |     122     |\n",
      "|  161.863540649  |  168.33253479  | 167.912154436  | 140.293869019  |     151     |\n",
      "|  105.857467651  | 105.950469971  | 109.293683329  | 113.792694092  |      99     |\n",
      "|  130.503448486  | 129.198684692  | 131.789731925  | 131.272415161  |     121     |\n",
      "|  151.963806152  | 147.951629639  | 151.169980911  | 150.374847412  |     121     |\n",
      "|  58.2575454712  | 61.9915161133  | 61.8293693628  |  62.617023468  |      49     |\n",
      "|  92.7999343872  | 84.3142623901  |  95.647911507  | 95.6289520264  |      75     |\n",
      "|  102.210456848  | 104.278381348  |  109.80130249  | 109.225814819  |     105     |\n",
      "|   48.502948761  | 49.3258857727  | 51.6572072762  | 63.2970352173  |      55     |\n",
      "|   84.451461792  | 82.7975616455  | 89.3917290114  |  81.423538208  |      80     |\n",
      "|  146.225708008  | 148.581512451  | 142.410286419  | 134.642166138  |     194     |\n",
      "|  56.9324569702  | 54.1868782043  | 50.4535248368  | 77.9030532837  |      52     |\n",
      "|   96.147277832  |  95.509513855  | 97.7578965949  | 118.685966492  |     121     |\n",
      "|  147.153808594  | 149.394561768  | 153.601058278  | 140.120285034  |     112     |\n",
      "+-----------------+----------------+----------------+----------------+-------------+\n",
      "[800067 rows x 5 columns]\n",
      "\n"
     ]
    }
   ],
   "source": [
    "train2_data.print_rows(100)"
   ]
  },
  {
   "cell_type": "code",
   "execution_count": 130,
   "metadata": {},
   "outputs": [],
   "source": [
    "model_final = gl.linear_regression.create(train2_data, target='salary',\n",
    "                                           features = ['predictions_xgb',\n",
    "                                                     'predictions_bt',\n",
    "                                                    'predictions_lr',\n",
    "                                                    'predictions_rf'],\n",
    "                                               feature_rescaling = False,\n",
    "                                          verbose=False)\n"
   ]
  },
  {
   "cell_type": "code",
   "execution_count": 134,
   "metadata": {},
   "outputs": [
    {
     "data": {
      "text/plain": [
       "{'max_error': 186.87702756846662, 'rmse': 18.93483484159112}"
      ]
     },
     "execution_count": 134,
     "metadata": {},
     "output_type": "execute_result"
    }
   ],
   "source": [
    "predictions_final = model_final.predict(test2_data)\n",
    "results_final = model_final.evaluate(test2_data)\n",
    "results_final"
   ]
  },
  {
   "cell_type": "code",
   "execution_count": 133,
   "metadata": {},
   "outputs": [
    {
     "name": "stdout",
     "output_type": "stream",
     "text": [
      "+-----------------+-------+------------------+------------------+\n",
      "|       name      | index |      value       |      stderr      |\n",
      "+-----------------+-------+------------------+------------------+\n",
      "|   (intercept)   |  None |  0.262170083782  |  0.108672101254  |\n",
      "| predictions_xgb |  None |  0.663616490351  | 0.00815192284177 |\n",
      "|  predictions_bt |  None |  0.382684134342  | 0.00700550091249 |\n",
      "|  predictions_lr |  None | 0.0027143579353  | 0.0041285189256  |\n",
      "|  predictions_rf |  None | -0.0512772183084 | 0.00210969766726 |\n",
      "+-----------------+-------+------------------+------------------+\n",
      "[5 rows x 4 columns]\n",
      "\n"
     ]
    }
   ],
   "source": [
    "print model_final[\"coefficients\"]"
   ]
  },
  {
   "cell_type": "code",
   "execution_count": 135,
   "metadata": {},
   "outputs": [],
   "source": [
    "residuals_final = predictions_final - test2_data[\"salary\"]"
   ]
  },
  {
   "cell_type": "code",
   "execution_count": 136,
   "metadata": {},
   "outputs": [
    {
     "data": {
      "text/plain": [
       "[<matplotlib.lines.Line2D at 0x1a26e8d190>]"
      ]
     },
     "execution_count": 136,
     "metadata": {},
     "output_type": "execute_result"
    },
    {
     "data": {
      "text/plain": [
       "Text(0.5,1,u'Test residuals Ensemble')"
      ]
     },
     "execution_count": 136,
     "metadata": {},
     "output_type": "execute_result"
    },
    {
     "data": {
      "text/plain": [
       "Text(0,0.5,u'Count')"
      ]
     },
     "execution_count": 136,
     "metadata": {},
     "output_type": "execute_result"
    },
    {
     "data": {
      "image/png": "[encoded data removed]",
      "text/plain": [
       "<matplotlib.figure.Figure at 0x1a26ec54d0>"
      ]
     },
     "metadata": {},
     "output_type": "display_data"
    }
   ],
   "source": [
    "n, bins, patches = plt.hist(residuals_final,bins=50)\n",
    "plt.plot(bins)\n",
    "plt.title(\"Test residuals Ensemble\")\n",
    "plt.ylabel('Count')\n",
    "plt.show()"
   ]
  },
  {
   "cell_type": "markdown",
   "metadata": {},
   "source": [
    "## Let's run it on our test data set"
   ]
  },
  {
   "cell_type": "code",
   "execution_count": 174,
   "metadata": {},
   "outputs": [],
   "source": [
    "test_f_sf = gl.SFrame.read_csv(\"test_features_2013-03-07.csv\", verbose=False)\n",
    "test_f_df = pd.get_dummies( test_f_sf.to_dataframe(), columns =[\"industry\",\"jobType\",\"degree\",\"major\",\"companyId\"] )"
   ]
  },
  {
   "cell_type": "code",
   "execution_count": 175,
   "metadata": {},
   "outputs": [
    {
     "data": {
      "text/plain": [
       "(1000000, 8)"
      ]
     },
     "execution_count": 175,
     "metadata": {},
     "output_type": "execute_result"
    },
    {
     "data": {
      "text/plain": [
       "(1000000, 95)"
      ]
     },
     "execution_count": 175,
     "metadata": {},
     "output_type": "execute_result"
    }
   ],
   "source": [
    "test_f_sf.shape\n",
    "test_f_df.shape"
   ]
  },
  {
   "cell_type": "code",
   "execution_count": 177,
   "metadata": {},
   "outputs": [],
   "source": [
    "test_f_X = test_f_df.drop(['jobId'], axis=1).as_matrix()"
   ]
  },
  {
   "cell_type": "code",
   "execution_count": 178,
   "metadata": {},
   "outputs": [],
   "source": [
    "predictionsf_lr = model_lr.predict(test_f_sf)\n",
    "predictionsf_bt = model_bt.predict(test_f_sf)\n",
    "predictionsf_rf = model_rf.predict(test_f_sf)\n",
    "predictionsf_xgb = my_model.predict(test_f_X)\n",
    "#salary_train = train_data[\"salary\"]"
   ]
  },
  {
   "cell_type": "code",
   "execution_count": 183,
   "metadata": {},
   "outputs": [
    {
     "data": {
      "text/plain": [
       "1000000"
      ]
     },
     "execution_count": 183,
     "metadata": {},
     "output_type": "execute_result"
    },
    {
     "data": {
      "text/plain": [
       "1000000"
      ]
     },
     "execution_count": 183,
     "metadata": {},
     "output_type": "execute_result"
    }
   ],
   "source": [
    "len(predictionsf_lr)\n",
    "len(predictionsf_xgb)"
   ]
  },
  {
   "cell_type": "code",
   "execution_count": 182,
   "metadata": {},
   "outputs": [],
   "source": [
    "testf2_sf = gl.SFrame({'predictions_lr':predictionsf_lr,\n",
    "             'predictions_bt':predictionsf_bt,\n",
    "             'predictions_rf':predictionsf_rf,\n",
    "             'predictions_xgb':predictionsf_xgb})"
   ]
  },
  {
   "cell_type": "code",
   "execution_count": 184,
   "metadata": {},
   "outputs": [
    {
     "data": {
      "text/plain": [
       "(1000000, 4)"
      ]
     },
     "execution_count": 184,
     "metadata": {},
     "output_type": "execute_result"
    }
   ],
   "source": [
    "testf2_sf.shape"
   ]
  },
  {
   "cell_type": "code",
   "execution_count": 185,
   "metadata": {},
   "outputs": [],
   "source": [
    "predictionsf_final = model_final.predict(testf2_sf)"
   ]
  },
  {
   "cell_type": "code",
   "execution_count": 186,
   "metadata": {},
   "outputs": [],
   "source": [
    "test_f_sf[\"salary\"]=predictionsf_final\n",
    "\n",
    "final_results = test_f_sf[[\"jobId\",\"salary\"]]\n",
    "\n",
    "final_results.save(\"test_salaries.csv\",format='csv')"
   ]
  },
  {
   "cell_type": "code",
   "execution_count": null,
   "metadata": {},
   "outputs": [],
   "source": []
  },
  {
   "cell_type": "code",
   "execution_count": null,
   "metadata": {},
   "outputs": [],
   "source": []
  },
  {
   "cell_type": "code",
   "execution_count": null,
   "metadata": {},
   "outputs": [],
   "source": []
  },
  {
   "cell_type": "code",
   "execution_count": null,
   "metadata": {},
   "outputs": [],
   "source": []
  },
  {
   "cell_type": "code",
   "execution_count": null,
   "metadata": {},
   "outputs": [],
   "source": []
  },
  {
   "cell_type": "code",
   "execution_count": null,
   "metadata": {},
   "outputs": [],
   "source": []
  },
  {
   "cell_type": "code",
   "execution_count": null,
   "metadata": {},
   "outputs": [],
   "source": []
  }
 ],
 "metadata": {
  "kernelspec": {
   "display_name": "Python [conda env:anaconda]",
   "language": "python",
   "name": "conda-env-anaconda-py"
  },
  "language_info": {
   "codemirror_mode": {
    "name": "ipython",
    "version": 2
   },
   "file_extension": ".py",
   "mimetype": "text/x-python",
   "name": "python",
   "nbconvert_exporter": "python",
   "pygments_lexer": "ipython2",
   "version": "2.7.14"
  }
 },
 "nbformat": 4,
 "nbformat_minor": 2
}
